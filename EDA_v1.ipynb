{
 "cells": [
  {
   "cell_type": "code",
   "execution_count": 1,
   "metadata": {},
   "outputs": [],
   "source": [
    "import pandas as pd\n",
    "import os"
   ]
  },
  {
   "cell_type": "code",
   "execution_count": 51,
   "metadata": {},
   "outputs": [],
   "source": [
    "pd.set_option('display.max_columns', None)"
   ]
  },
  {
   "cell_type": "code",
   "execution_count": 3,
   "metadata": {},
   "outputs": [
    {
     "name": "stdout",
     "output_type": "stream",
     "text": [
      "Current working directory :  /Users/reet/Data_Science/AVD_LTFS_Hackathon/code\n",
      "Changed working directory:  /Users/reet/Data_Science/AVD_LTFS_Hackathon/all_data\n"
     ]
    }
   ],
   "source": [
    "\n",
    "def dict_change(path):\n",
    "    print(\"Current working directory : \",os.getcwd())\n",
    "    os.chdir(path)\n",
    "    print(\"Changed working directory: \",os.getcwd())\n",
    "    \n",
    "\n",
    "dir_path = \"/Users/reet/Data_Science/AVD_LTFS_Hackathon/all_data\"\n",
    "\n",
    "dict_change(dir_path)\n"
   ]
  },
  {
   "cell_type": "code",
   "execution_count": 10,
   "metadata": {},
   "outputs": [
    {
     "data": {
      "text/plain": [
       "['data_dict.xlsx',\n",
       " '.DS_Store',\n",
       " 'train_Data.xlsx',\n",
       " 'test_bureau.xlsx',\n",
       " 'train_bureau.xlsx',\n",
       " 'test_Data.xlsx']"
      ]
     },
     "execution_count": 10,
     "metadata": {},
     "output_type": "execute_result"
    }
   ],
   "source": [
    "os.listdir()"
   ]
  },
  {
   "cell_type": "code",
   "execution_count": 40,
   "metadata": {},
   "outputs": [],
   "source": [
    "data_dict = pd.read_excel(\"data_dict.xlsx\")\n",
    "train_Data = pd.read_excel(\"train_Data.xlsx\")\n",
    "test_bureau = pd.read_excel(\"test_bureau.xlsx\")\n",
    "train_bureau = pd.read_excel(\"train_bureau.xlsx\")\n",
    "test_Data = pd.read_excel(\"test_Data.xlsx\")\n"
   ]
  },
  {
   "cell_type": "code",
   "execution_count": 48,
   "metadata": {},
   "outputs": [],
   "source": [
    "def basic_df_check(data):\n",
    "    print(\"Shape of dataframe: \",data.shape)\n",
    "    print(\"\\n\")\n",
    "    print(\"Column List ============================= \\n\", data.columns)\n",
    "    return data.head()\n",
    "    \n",
    "    "
   ]
  },
  {
   "cell_type": "code",
   "execution_count": 53,
   "metadata": {},
   "outputs": [
    {
     "name": "stdout",
     "output_type": "stream",
     "text": [
      "Shape of dataframe:  (128655, 26)\n",
      "\n",
      "\n",
      "Column List ============================= \n",
      " Index(['ID', 'Frequency', 'InstlmentMode', 'LoanStatus', 'PaymentMode',\n",
      "       'BranchID', 'Area', 'Tenure', 'AssetCost', 'AmountFinance',\n",
      "       'DisbursalAmount', 'EMI', 'DisbursalDate', 'MaturityDAte', 'AuthDate',\n",
      "       'AssetID', 'ManufacturerID', 'SupplierID', 'LTV', 'SEX', 'AGE',\n",
      "       'MonthlyIncome', 'City', 'State', 'ZiPCODE', 'Top-up Month'],\n",
      "      dtype='object')\n"
     ]
    },
    {
     "data": {
      "text/html": [
       "<div>\n",
       "<style scoped>\n",
       "    .dataframe tbody tr th:only-of-type {\n",
       "        vertical-align: middle;\n",
       "    }\n",
       "\n",
       "    .dataframe tbody tr th {\n",
       "        vertical-align: top;\n",
       "    }\n",
       "\n",
       "    .dataframe thead th {\n",
       "        text-align: right;\n",
       "    }\n",
       "</style>\n",
       "<table border=\"1\" class=\"dataframe\">\n",
       "  <thead>\n",
       "    <tr style=\"text-align: right;\">\n",
       "      <th></th>\n",
       "      <th>ID</th>\n",
       "      <th>Frequency</th>\n",
       "      <th>InstlmentMode</th>\n",
       "      <th>LoanStatus</th>\n",
       "      <th>PaymentMode</th>\n",
       "      <th>BranchID</th>\n",
       "      <th>Area</th>\n",
       "      <th>Tenure</th>\n",
       "      <th>AssetCost</th>\n",
       "      <th>AmountFinance</th>\n",
       "      <th>DisbursalAmount</th>\n",
       "      <th>EMI</th>\n",
       "      <th>DisbursalDate</th>\n",
       "      <th>MaturityDAte</th>\n",
       "      <th>AuthDate</th>\n",
       "      <th>AssetID</th>\n",
       "      <th>ManufacturerID</th>\n",
       "      <th>SupplierID</th>\n",
       "      <th>LTV</th>\n",
       "      <th>SEX</th>\n",
       "      <th>AGE</th>\n",
       "      <th>MonthlyIncome</th>\n",
       "      <th>City</th>\n",
       "      <th>State</th>\n",
       "      <th>ZiPCODE</th>\n",
       "      <th>Top-up Month</th>\n",
       "    </tr>\n",
       "  </thead>\n",
       "  <tbody>\n",
       "    <tr>\n",
       "      <th>0</th>\n",
       "      <td>1</td>\n",
       "      <td>Monthly</td>\n",
       "      <td>Arrear</td>\n",
       "      <td>Closed</td>\n",
       "      <td>PDC_E</td>\n",
       "      <td>1</td>\n",
       "      <td>NaN</td>\n",
       "      <td>48</td>\n",
       "      <td>450000</td>\n",
       "      <td>275000.0</td>\n",
       "      <td>275000.0</td>\n",
       "      <td>24000.0</td>\n",
       "      <td>2012-02-10</td>\n",
       "      <td>2016-01-15</td>\n",
       "      <td>2012-02-10</td>\n",
       "      <td>4022465</td>\n",
       "      <td>1568</td>\n",
       "      <td>21946</td>\n",
       "      <td>61.11</td>\n",
       "      <td>M</td>\n",
       "      <td>49.0</td>\n",
       "      <td>35833.33</td>\n",
       "      <td>RAISEN</td>\n",
       "      <td>MADHYA PRADESH</td>\n",
       "      <td>464993.0</td>\n",
       "      <td>&gt; 48 Months</td>\n",
       "    </tr>\n",
       "    <tr>\n",
       "      <th>1</th>\n",
       "      <td>2</td>\n",
       "      <td>Monthly</td>\n",
       "      <td>Advance</td>\n",
       "      <td>Closed</td>\n",
       "      <td>PDC</td>\n",
       "      <td>333</td>\n",
       "      <td>BHOPAL</td>\n",
       "      <td>47</td>\n",
       "      <td>485000</td>\n",
       "      <td>350000.0</td>\n",
       "      <td>350000.0</td>\n",
       "      <td>10500.0</td>\n",
       "      <td>2012-03-31</td>\n",
       "      <td>2016-02-15</td>\n",
       "      <td>2012-03-31</td>\n",
       "      <td>4681175</td>\n",
       "      <td>1062</td>\n",
       "      <td>34802</td>\n",
       "      <td>70.00</td>\n",
       "      <td>M</td>\n",
       "      <td>23.0</td>\n",
       "      <td>666.67</td>\n",
       "      <td>SEHORE</td>\n",
       "      <td>MADHYA PRADESH</td>\n",
       "      <td>466001.0</td>\n",
       "      <td>No Top-up Service</td>\n",
       "    </tr>\n",
       "    <tr>\n",
       "      <th>2</th>\n",
       "      <td>3</td>\n",
       "      <td>Quatrly</td>\n",
       "      <td>Arrear</td>\n",
       "      <td>Active</td>\n",
       "      <td>Direct Debit</td>\n",
       "      <td>1</td>\n",
       "      <td>NaN</td>\n",
       "      <td>68</td>\n",
       "      <td>690000</td>\n",
       "      <td>519728.0</td>\n",
       "      <td>519728.0</td>\n",
       "      <td>38300.0</td>\n",
       "      <td>2017-06-17</td>\n",
       "      <td>2023-02-10</td>\n",
       "      <td>2017-06-17</td>\n",
       "      <td>25328146</td>\n",
       "      <td>1060</td>\n",
       "      <td>127335</td>\n",
       "      <td>69.77</td>\n",
       "      <td>M</td>\n",
       "      <td>39.0</td>\n",
       "      <td>45257.00</td>\n",
       "      <td>BHOPAL</td>\n",
       "      <td>MADHYA PRADESH</td>\n",
       "      <td>462030.0</td>\n",
       "      <td>12-18 Months</td>\n",
       "    </tr>\n",
       "    <tr>\n",
       "      <th>3</th>\n",
       "      <td>7</td>\n",
       "      <td>Monthly</td>\n",
       "      <td>Advance</td>\n",
       "      <td>Closed</td>\n",
       "      <td>Billed</td>\n",
       "      <td>125</td>\n",
       "      <td>GUNA</td>\n",
       "      <td>48</td>\n",
       "      <td>480000</td>\n",
       "      <td>400000.0</td>\n",
       "      <td>400000.0</td>\n",
       "      <td>11600.0</td>\n",
       "      <td>2013-11-29</td>\n",
       "      <td>2017-11-10</td>\n",
       "      <td>2013-11-29</td>\n",
       "      <td>13021591</td>\n",
       "      <td>1060</td>\n",
       "      <td>25094</td>\n",
       "      <td>80.92</td>\n",
       "      <td>M</td>\n",
       "      <td>24.0</td>\n",
       "      <td>20833.33</td>\n",
       "      <td>ASHOK NAGAR</td>\n",
       "      <td>MADHYA PRADESH</td>\n",
       "      <td>473335.0</td>\n",
       "      <td>&gt; 48 Months</td>\n",
       "    </tr>\n",
       "    <tr>\n",
       "      <th>4</th>\n",
       "      <td>8</td>\n",
       "      <td>Monthly</td>\n",
       "      <td>Arrear</td>\n",
       "      <td>Closed</td>\n",
       "      <td>Billed</td>\n",
       "      <td>152</td>\n",
       "      <td>BILASPUR</td>\n",
       "      <td>44</td>\n",
       "      <td>619265</td>\n",
       "      <td>440000.0</td>\n",
       "      <td>440000.0</td>\n",
       "      <td>15000.0</td>\n",
       "      <td>2011-12-08</td>\n",
       "      <td>2015-07-05</td>\n",
       "      <td>2011-12-08</td>\n",
       "      <td>3291320</td>\n",
       "      <td>1046</td>\n",
       "      <td>21853</td>\n",
       "      <td>71.05</td>\n",
       "      <td>M</td>\n",
       "      <td>56.0</td>\n",
       "      <td>27313.67</td>\n",
       "      <td>BILASPUR</td>\n",
       "      <td>CHATTISGARH</td>\n",
       "      <td>495442.0</td>\n",
       "      <td>36-48 Months</td>\n",
       "    </tr>\n",
       "  </tbody>\n",
       "</table>\n",
       "</div>"
      ],
      "text/plain": [
       "   ID Frequency InstlmentMode LoanStatus   PaymentMode  BranchID      Area  \\\n",
       "0   1   Monthly        Arrear     Closed         PDC_E         1       NaN   \n",
       "1   2   Monthly       Advance     Closed           PDC       333    BHOPAL   \n",
       "2   3   Quatrly        Arrear     Active  Direct Debit         1       NaN   \n",
       "3   7   Monthly       Advance     Closed        Billed       125      GUNA   \n",
       "4   8   Monthly        Arrear     Closed        Billed       152  BILASPUR   \n",
       "\n",
       "   Tenure  AssetCost  AmountFinance  DisbursalAmount      EMI DisbursalDate  \\\n",
       "0      48     450000       275000.0         275000.0  24000.0    2012-02-10   \n",
       "1      47     485000       350000.0         350000.0  10500.0    2012-03-31   \n",
       "2      68     690000       519728.0         519728.0  38300.0    2017-06-17   \n",
       "3      48     480000       400000.0         400000.0  11600.0    2013-11-29   \n",
       "4      44     619265       440000.0         440000.0  15000.0    2011-12-08   \n",
       "\n",
       "  MaturityDAte   AuthDate   AssetID  ManufacturerID  SupplierID    LTV SEX  \\\n",
       "0   2016-01-15 2012-02-10   4022465            1568       21946  61.11   M   \n",
       "1   2016-02-15 2012-03-31   4681175            1062       34802  70.00   M   \n",
       "2   2023-02-10 2017-06-17  25328146            1060      127335  69.77   M   \n",
       "3   2017-11-10 2013-11-29  13021591            1060       25094  80.92   M   \n",
       "4   2015-07-05 2011-12-08   3291320            1046       21853  71.05   M   \n",
       "\n",
       "    AGE  MonthlyIncome         City           State   ZiPCODE  \\\n",
       "0  49.0       35833.33       RAISEN  MADHYA PRADESH  464993.0   \n",
       "1  23.0         666.67       SEHORE  MADHYA PRADESH  466001.0   \n",
       "2  39.0       45257.00       BHOPAL  MADHYA PRADESH  462030.0   \n",
       "3  24.0       20833.33  ASHOK NAGAR  MADHYA PRADESH  473335.0   \n",
       "4  56.0       27313.67     BILASPUR     CHATTISGARH  495442.0   \n",
       "\n",
       "        Top-up Month  \n",
       "0        > 48 Months  \n",
       "1  No Top-up Service  \n",
       "2       12-18 Months  \n",
       "3        > 48 Months  \n",
       "4       36-48 Months  "
      ]
     },
     "execution_count": 53,
     "metadata": {},
     "output_type": "execute_result"
    }
   ],
   "source": [
    "basic_df_check(train_Data)"
   ]
  },
  {
   "cell_type": "code",
   "execution_count": 54,
   "metadata": {},
   "outputs": [
    {
     "name": "stdout",
     "output_type": "stream",
     "text": [
      "Shape of dataframe:  (560844, 25)\n",
      "\n",
      "\n",
      "Column List ============================= \n",
      " Index(['ID', 'SELF-INDICATOR', 'MATCH-TYPE', 'ACCT-TYPE', 'CONTRIBUTOR-TYPE',\n",
      "       'DATE-REPORTED', 'OWNERSHIP-IND', 'ACCOUNT-STATUS', 'DISBURSED-DT',\n",
      "       'CLOSE-DT', 'LAST-PAYMENT-DATE', 'CREDIT-LIMIT/SANC AMT',\n",
      "       'DISBURSED-AMT/HIGH CREDIT', 'INSTALLMENT-AMT', 'CURRENT-BAL',\n",
      "       'INSTALLMENT-FREQUENCY', 'OVERDUE-AMT', 'WRITE-OFF-AMT', 'ASSET_CLASS',\n",
      "       'REPORTED DATE - HIST', 'DPD - HIST', 'CUR BAL - HIST',\n",
      "       'AMT OVERDUE - HIST', 'AMT PAID - HIST', 'TENURE'],\n",
      "      dtype='object')\n"
     ]
    },
    {
     "data": {
      "text/html": [
       "<div>\n",
       "<style scoped>\n",
       "    .dataframe tbody tr th:only-of-type {\n",
       "        vertical-align: middle;\n",
       "    }\n",
       "\n",
       "    .dataframe tbody tr th {\n",
       "        vertical-align: top;\n",
       "    }\n",
       "\n",
       "    .dataframe thead th {\n",
       "        text-align: right;\n",
       "    }\n",
       "</style>\n",
       "<table border=\"1\" class=\"dataframe\">\n",
       "  <thead>\n",
       "    <tr style=\"text-align: right;\">\n",
       "      <th></th>\n",
       "      <th>ID</th>\n",
       "      <th>SELF-INDICATOR</th>\n",
       "      <th>MATCH-TYPE</th>\n",
       "      <th>ACCT-TYPE</th>\n",
       "      <th>CONTRIBUTOR-TYPE</th>\n",
       "      <th>DATE-REPORTED</th>\n",
       "      <th>OWNERSHIP-IND</th>\n",
       "      <th>ACCOUNT-STATUS</th>\n",
       "      <th>DISBURSED-DT</th>\n",
       "      <th>CLOSE-DT</th>\n",
       "      <th>LAST-PAYMENT-DATE</th>\n",
       "      <th>CREDIT-LIMIT/SANC AMT</th>\n",
       "      <th>DISBURSED-AMT/HIGH CREDIT</th>\n",
       "      <th>INSTALLMENT-AMT</th>\n",
       "      <th>CURRENT-BAL</th>\n",
       "      <th>INSTALLMENT-FREQUENCY</th>\n",
       "      <th>OVERDUE-AMT</th>\n",
       "      <th>WRITE-OFF-AMT</th>\n",
       "      <th>ASSET_CLASS</th>\n",
       "      <th>REPORTED DATE - HIST</th>\n",
       "      <th>DPD - HIST</th>\n",
       "      <th>CUR BAL - HIST</th>\n",
       "      <th>AMT OVERDUE - HIST</th>\n",
       "      <th>AMT PAID - HIST</th>\n",
       "      <th>TENURE</th>\n",
       "    </tr>\n",
       "  </thead>\n",
       "  <tbody>\n",
       "    <tr>\n",
       "      <th>0</th>\n",
       "      <td>1</td>\n",
       "      <td>False</td>\n",
       "      <td>PRIMARY</td>\n",
       "      <td>Overdraft</td>\n",
       "      <td>NAB</td>\n",
       "      <td>2018-04-30</td>\n",
       "      <td>Individual</td>\n",
       "      <td>Delinquent</td>\n",
       "      <td>2015-10-05</td>\n",
       "      <td>NaN</td>\n",
       "      <td>2018-02-27</td>\n",
       "      <td>NaN</td>\n",
       "      <td>37,352</td>\n",
       "      <td>NaN</td>\n",
       "      <td>37,873</td>\n",
       "      <td>NaN</td>\n",
       "      <td>37,873</td>\n",
       "      <td>0.0</td>\n",
       "      <td>Standard</td>\n",
       "      <td>20180430,20180331,</td>\n",
       "      <td>030000</td>\n",
       "      <td>37873,12820,</td>\n",
       "      <td>37873,,</td>\n",
       "      <td>,,</td>\n",
       "      <td>NaN</td>\n",
       "    </tr>\n",
       "    <tr>\n",
       "      <th>1</th>\n",
       "      <td>1</td>\n",
       "      <td>False</td>\n",
       "      <td>PRIMARY</td>\n",
       "      <td>Auto Loan (Personal)</td>\n",
       "      <td>NAB</td>\n",
       "      <td>2019-12-31</td>\n",
       "      <td>Individual</td>\n",
       "      <td>Active</td>\n",
       "      <td>2018-03-19</td>\n",
       "      <td>NaN</td>\n",
       "      <td>2019-12-19</td>\n",
       "      <td>NaN</td>\n",
       "      <td>44,000</td>\n",
       "      <td>1,405/Monthly</td>\n",
       "      <td>20,797</td>\n",
       "      <td>F03</td>\n",
       "      <td>NaN</td>\n",
       "      <td>0.0</td>\n",
       "      <td>Standard</td>\n",
       "      <td>20191231,20191130,20191031,20190930,20190831,2...</td>\n",
       "      <td>0000000000000000000000000000000000000000000000...</td>\n",
       "      <td>20797,21988,23174,24341,25504,26648,27780,2891...</td>\n",
       "      <td>,,,,,,,,,,,,,,,,,,,,1452,,</td>\n",
       "      <td>,,,,,,,,,,,,,,,,,,,,,,</td>\n",
       "      <td>36.0</td>\n",
       "    </tr>\n",
       "    <tr>\n",
       "      <th>2</th>\n",
       "      <td>1</td>\n",
       "      <td>True</td>\n",
       "      <td>PRIMARY</td>\n",
       "      <td>Tractor Loan</td>\n",
       "      <td>NBF</td>\n",
       "      <td>2020-01-31</td>\n",
       "      <td>Individual</td>\n",
       "      <td>Active</td>\n",
       "      <td>2019-08-30</td>\n",
       "      <td>NaN</td>\n",
       "      <td>NaT</td>\n",
       "      <td>NaN</td>\n",
       "      <td>1,45,000</td>\n",
       "      <td>NaN</td>\n",
       "      <td>1,16,087</td>\n",
       "      <td>NaN</td>\n",
       "      <td>0</td>\n",
       "      <td>0.0</td>\n",
       "      <td>NaN</td>\n",
       "      <td>20200131,20191231,20191130,20191031,20190930,2...</td>\n",
       "      <td>000000000000000000</td>\n",
       "      <td>116087,116087,145000,145000,145000,145000,</td>\n",
       "      <td>0,0,0,0,0,0,</td>\n",
       "      <td>,,,,,,</td>\n",
       "      <td>NaN</td>\n",
       "    </tr>\n",
       "    <tr>\n",
       "      <th>3</th>\n",
       "      <td>1</td>\n",
       "      <td>True</td>\n",
       "      <td>PRIMARY</td>\n",
       "      <td>Auto Loan (Personal)</td>\n",
       "      <td>NBF</td>\n",
       "      <td>2017-09-30</td>\n",
       "      <td>Individual</td>\n",
       "      <td>Closed</td>\n",
       "      <td>2013-09-27</td>\n",
       "      <td>2017-09-21 00:00:00</td>\n",
       "      <td>NaT</td>\n",
       "      <td>NaN</td>\n",
       "      <td>3,00,000</td>\n",
       "      <td>NaN</td>\n",
       "      <td>0</td>\n",
       "      <td>NaN</td>\n",
       "      <td>0</td>\n",
       "      <td>0.0</td>\n",
       "      <td>NaN</td>\n",
       "      <td>20170930,20170801,20170731,20170630,20170531,2...</td>\n",
       "      <td>000DDD0270260270260270240270270000320000000000...</td>\n",
       "      <td>0,,15925,23754,31494,39147,46713,54194,61590,6...</td>\n",
       "      <td>0,,1014,1014,1014,1014,1014,1014,1014,983,0,92...</td>\n",
       "      <td>,,,,,,,,,,,,,,,,,,,,,,,,,,,,,,,,,,,,,</td>\n",
       "      <td>NaN</td>\n",
       "    </tr>\n",
       "    <tr>\n",
       "      <th>4</th>\n",
       "      <td>1</td>\n",
       "      <td>True</td>\n",
       "      <td>PRIMARY</td>\n",
       "      <td>Tractor Loan</td>\n",
       "      <td>NBF</td>\n",
       "      <td>2016-02-29</td>\n",
       "      <td>Individual</td>\n",
       "      <td>Closed</td>\n",
       "      <td>2012-02-10</td>\n",
       "      <td>2016-02-01 00:00:00</td>\n",
       "      <td>NaT</td>\n",
       "      <td>NaN</td>\n",
       "      <td>2,75,000</td>\n",
       "      <td>NaN</td>\n",
       "      <td>0</td>\n",
       "      <td>NaN</td>\n",
       "      <td>0</td>\n",
       "      <td>0.0</td>\n",
       "      <td>NaN</td>\n",
       "      <td>20160229,20160131,20151231,20151130,20151031,2...</td>\n",
       "      <td>0000000000000000000000000000000000000000000000...</td>\n",
       "      <td>0,0,23658,23321,22989,46321,45662,45012,68030,...</td>\n",
       "      <td>0,0,0,0,0,0,0,0,0,0,0,0,0,0,0,0,0,0,0,0,0,0,0,...</td>\n",
       "      <td>,,,,,,,,,,,,,,,,,,,,,,,,,,,,,,,,,,,,,</td>\n",
       "      <td>NaN</td>\n",
       "    </tr>\n",
       "  </tbody>\n",
       "</table>\n",
       "</div>"
      ],
      "text/plain": [
       "   ID  SELF-INDICATOR MATCH-TYPE             ACCT-TYPE CONTRIBUTOR-TYPE  \\\n",
       "0   1           False    PRIMARY             Overdraft              NAB   \n",
       "1   1           False    PRIMARY  Auto Loan (Personal)              NAB   \n",
       "2   1            True    PRIMARY          Tractor Loan              NBF   \n",
       "3   1            True    PRIMARY  Auto Loan (Personal)              NBF   \n",
       "4   1            True    PRIMARY          Tractor Loan              NBF   \n",
       "\n",
       "  DATE-REPORTED OWNERSHIP-IND ACCOUNT-STATUS DISBURSED-DT  \\\n",
       "0    2018-04-30    Individual     Delinquent   2015-10-05   \n",
       "1    2019-12-31    Individual         Active   2018-03-19   \n",
       "2    2020-01-31    Individual         Active   2019-08-30   \n",
       "3    2017-09-30    Individual         Closed   2013-09-27   \n",
       "4    2016-02-29    Individual         Closed   2012-02-10   \n",
       "\n",
       "              CLOSE-DT LAST-PAYMENT-DATE CREDIT-LIMIT/SANC AMT  \\\n",
       "0                  NaN        2018-02-27                   NaN   \n",
       "1                  NaN        2019-12-19                   NaN   \n",
       "2                  NaN               NaT                   NaN   \n",
       "3  2017-09-21 00:00:00               NaT                   NaN   \n",
       "4  2016-02-01 00:00:00               NaT                   NaN   \n",
       "\n",
       "  DISBURSED-AMT/HIGH CREDIT INSTALLMENT-AMT CURRENT-BAL INSTALLMENT-FREQUENCY  \\\n",
       "0                    37,352             NaN      37,873                   NaN   \n",
       "1                    44,000   1,405/Monthly      20,797                   F03   \n",
       "2                  1,45,000             NaN    1,16,087                   NaN   \n",
       "3                  3,00,000             NaN           0                   NaN   \n",
       "4                  2,75,000             NaN           0                   NaN   \n",
       "\n",
       "  OVERDUE-AMT  WRITE-OFF-AMT ASSET_CLASS  \\\n",
       "0      37,873            0.0    Standard   \n",
       "1         NaN            0.0    Standard   \n",
       "2           0            0.0         NaN   \n",
       "3           0            0.0         NaN   \n",
       "4           0            0.0         NaN   \n",
       "\n",
       "                                REPORTED DATE - HIST  \\\n",
       "0                                 20180430,20180331,   \n",
       "1  20191231,20191130,20191031,20190930,20190831,2...   \n",
       "2  20200131,20191231,20191130,20191031,20190930,2...   \n",
       "3  20170930,20170801,20170731,20170630,20170531,2...   \n",
       "4  20160229,20160131,20151231,20151130,20151031,2...   \n",
       "\n",
       "                                          DPD - HIST  \\\n",
       "0                                             030000   \n",
       "1  0000000000000000000000000000000000000000000000...   \n",
       "2                                 000000000000000000   \n",
       "3  000DDD0270260270260270240270270000320000000000...   \n",
       "4  0000000000000000000000000000000000000000000000...   \n",
       "\n",
       "                                      CUR BAL - HIST  \\\n",
       "0                                       37873,12820,   \n",
       "1  20797,21988,23174,24341,25504,26648,27780,2891...   \n",
       "2         116087,116087,145000,145000,145000,145000,   \n",
       "3  0,,15925,23754,31494,39147,46713,54194,61590,6...   \n",
       "4  0,0,23658,23321,22989,46321,45662,45012,68030,...   \n",
       "\n",
       "                                  AMT OVERDUE - HIST  \\\n",
       "0                                            37873,,   \n",
       "1                         ,,,,,,,,,,,,,,,,,,,,1452,,   \n",
       "2                                       0,0,0,0,0,0,   \n",
       "3  0,,1014,1014,1014,1014,1014,1014,1014,983,0,92...   \n",
       "4  0,0,0,0,0,0,0,0,0,0,0,0,0,0,0,0,0,0,0,0,0,0,0,...   \n",
       "\n",
       "                         AMT PAID - HIST  TENURE  \n",
       "0                                     ,,     NaN  \n",
       "1                 ,,,,,,,,,,,,,,,,,,,,,,    36.0  \n",
       "2                                 ,,,,,,     NaN  \n",
       "3  ,,,,,,,,,,,,,,,,,,,,,,,,,,,,,,,,,,,,,     NaN  \n",
       "4  ,,,,,,,,,,,,,,,,,,,,,,,,,,,,,,,,,,,,,     NaN  "
      ]
     },
     "execution_count": 54,
     "metadata": {},
     "output_type": "execute_result"
    }
   ],
   "source": [
    "basic_df_check(train_bureau)"
   ]
  },
  {
   "cell_type": "code",
   "execution_count": 55,
   "metadata": {},
   "outputs": [
    {
     "name": "stdout",
     "output_type": "stream",
     "text": [
      "Shape of dataframe:  (14745, 25)\n",
      "\n",
      "\n",
      "Column List ============================= \n",
      " Index(['ID', 'Frequency', 'InstlmentMode', 'LoanStatus', 'PaymentMode',\n",
      "       'BranchID', 'Area', 'Tenure', 'AssetCost', 'AmountFinance',\n",
      "       'DisbursalAmount', 'EMI', 'DisbursalDate', 'MaturityDAte', 'AuthDate',\n",
      "       'AssetID', 'ManufacturerID', 'SupplierID', 'LTV', 'SEX', 'AGE',\n",
      "       'MonthlyIncome', 'City', 'State', 'ZiPCODE'],\n",
      "      dtype='object')\n"
     ]
    },
    {
     "data": {
      "text/html": [
       "<div>\n",
       "<style scoped>\n",
       "    .dataframe tbody tr th:only-of-type {\n",
       "        vertical-align: middle;\n",
       "    }\n",
       "\n",
       "    .dataframe tbody tr th {\n",
       "        vertical-align: top;\n",
       "    }\n",
       "\n",
       "    .dataframe thead th {\n",
       "        text-align: right;\n",
       "    }\n",
       "</style>\n",
       "<table border=\"1\" class=\"dataframe\">\n",
       "  <thead>\n",
       "    <tr style=\"text-align: right;\">\n",
       "      <th></th>\n",
       "      <th>ID</th>\n",
       "      <th>Frequency</th>\n",
       "      <th>InstlmentMode</th>\n",
       "      <th>LoanStatus</th>\n",
       "      <th>PaymentMode</th>\n",
       "      <th>BranchID</th>\n",
       "      <th>Area</th>\n",
       "      <th>Tenure</th>\n",
       "      <th>AssetCost</th>\n",
       "      <th>AmountFinance</th>\n",
       "      <th>DisbursalAmount</th>\n",
       "      <th>EMI</th>\n",
       "      <th>DisbursalDate</th>\n",
       "      <th>MaturityDAte</th>\n",
       "      <th>AuthDate</th>\n",
       "      <th>AssetID</th>\n",
       "      <th>ManufacturerID</th>\n",
       "      <th>SupplierID</th>\n",
       "      <th>LTV</th>\n",
       "      <th>SEX</th>\n",
       "      <th>AGE</th>\n",
       "      <th>MonthlyIncome</th>\n",
       "      <th>City</th>\n",
       "      <th>State</th>\n",
       "      <th>ZiPCODE</th>\n",
       "    </tr>\n",
       "  </thead>\n",
       "  <tbody>\n",
       "    <tr>\n",
       "      <th>0</th>\n",
       "      <td>4</td>\n",
       "      <td>Monthly</td>\n",
       "      <td>Advance</td>\n",
       "      <td>Closed</td>\n",
       "      <td>PDC_E</td>\n",
       "      <td>2</td>\n",
       "      <td>GUNA</td>\n",
       "      <td>46</td>\n",
       "      <td>480000</td>\n",
       "      <td>365000.0</td>\n",
       "      <td>365000.0</td>\n",
       "      <td>1000.0</td>\n",
       "      <td>2011-12-29</td>\n",
       "      <td>2015-10-05</td>\n",
       "      <td>2011-12-29</td>\n",
       "      <td>3524747</td>\n",
       "      <td>1046.0</td>\n",
       "      <td>22354</td>\n",
       "      <td>75.83</td>\n",
       "      <td>M</td>\n",
       "      <td>50.0</td>\n",
       "      <td>32069.00</td>\n",
       "      <td>GUNA</td>\n",
       "      <td>MADHYA PRADESH</td>\n",
       "      <td>473001.0</td>\n",
       "    </tr>\n",
       "    <tr>\n",
       "      <th>1</th>\n",
       "      <td>5</td>\n",
       "      <td>Monthly</td>\n",
       "      <td>Advance</td>\n",
       "      <td>Closed</td>\n",
       "      <td>PDC</td>\n",
       "      <td>2</td>\n",
       "      <td>GUNA</td>\n",
       "      <td>45</td>\n",
       "      <td>480000</td>\n",
       "      <td>285000.0</td>\n",
       "      <td>285000.0</td>\n",
       "      <td>9300.0</td>\n",
       "      <td>2012-04-28</td>\n",
       "      <td>2016-01-01</td>\n",
       "      <td>2012-04-28</td>\n",
       "      <td>4985862</td>\n",
       "      <td>1046.0</td>\n",
       "      <td>22354</td>\n",
       "      <td>57.44</td>\n",
       "      <td>M</td>\n",
       "      <td>35.0</td>\n",
       "      <td>25000.00</td>\n",
       "      <td>GUNA</td>\n",
       "      <td>MADHYA PRADESH</td>\n",
       "      <td>473001.0</td>\n",
       "    </tr>\n",
       "    <tr>\n",
       "      <th>2</th>\n",
       "      <td>6</td>\n",
       "      <td>Quatrly</td>\n",
       "      <td>Arrear</td>\n",
       "      <td>Closed</td>\n",
       "      <td>PDC</td>\n",
       "      <td>2</td>\n",
       "      <td>GUNA</td>\n",
       "      <td>48</td>\n",
       "      <td>580000</td>\n",
       "      <td>400000.0</td>\n",
       "      <td>400000.0</td>\n",
       "      <td>35800.0</td>\n",
       "      <td>2013-10-22</td>\n",
       "      <td>2017-09-10</td>\n",
       "      <td>2013-10-22</td>\n",
       "      <td>12881783</td>\n",
       "      <td>1060.0</td>\n",
       "      <td>65929</td>\n",
       "      <td>68.97</td>\n",
       "      <td>M</td>\n",
       "      <td>37.0</td>\n",
       "      <td>23333.33</td>\n",
       "      <td>GUNA</td>\n",
       "      <td>MADHYA PRADESH</td>\n",
       "      <td>473001.0</td>\n",
       "    </tr>\n",
       "    <tr>\n",
       "      <th>3</th>\n",
       "      <td>25</td>\n",
       "      <td>Half Yearly</td>\n",
       "      <td>Arrear</td>\n",
       "      <td>Closed</td>\n",
       "      <td>Billed</td>\n",
       "      <td>154</td>\n",
       "      <td>NaN</td>\n",
       "      <td>36</td>\n",
       "      <td>725000</td>\n",
       "      <td>500000.0</td>\n",
       "      <td>500000.0</td>\n",
       "      <td>52000.0</td>\n",
       "      <td>2013-05-21</td>\n",
       "      <td>2016-02-10</td>\n",
       "      <td>2013-05-21</td>\n",
       "      <td>10613776</td>\n",
       "      <td>1049.0</td>\n",
       "      <td>68597</td>\n",
       "      <td>61.79</td>\n",
       "      <td>M</td>\n",
       "      <td>55.0</td>\n",
       "      <td>91666.67</td>\n",
       "      <td>MAHASAMUND</td>\n",
       "      <td>CHATTISGARH</td>\n",
       "      <td>493558.0</td>\n",
       "    </tr>\n",
       "    <tr>\n",
       "      <th>4</th>\n",
       "      <td>119</td>\n",
       "      <td>Quatrly</td>\n",
       "      <td>Arrear</td>\n",
       "      <td>Closed</td>\n",
       "      <td>PDC</td>\n",
       "      <td>194</td>\n",
       "      <td>CUTTACK</td>\n",
       "      <td>48</td>\n",
       "      <td>617000</td>\n",
       "      <td>400000.0</td>\n",
       "      <td>400000.0</td>\n",
       "      <td>35400.0</td>\n",
       "      <td>2012-11-30</td>\n",
       "      <td>2016-12-05</td>\n",
       "      <td>2012-11-30</td>\n",
       "      <td>7911110</td>\n",
       "      <td>1049.0</td>\n",
       "      <td>38493</td>\n",
       "      <td>59.09</td>\n",
       "      <td>M</td>\n",
       "      <td>48.0</td>\n",
       "      <td>12500.00</td>\n",
       "      <td>JAGATSINGHAPUR</td>\n",
       "      <td>ORISSA</td>\n",
       "      <td>754137.0</td>\n",
       "    </tr>\n",
       "  </tbody>\n",
       "</table>\n",
       "</div>"
      ],
      "text/plain": [
       "    ID    Frequency InstlmentMode LoanStatus PaymentMode  BranchID     Area  \\\n",
       "0    4      Monthly       Advance     Closed       PDC_E         2     GUNA   \n",
       "1    5      Monthly       Advance     Closed         PDC         2     GUNA   \n",
       "2    6      Quatrly        Arrear     Closed         PDC         2     GUNA   \n",
       "3   25  Half Yearly        Arrear     Closed      Billed       154      NaN   \n",
       "4  119      Quatrly        Arrear     Closed         PDC       194  CUTTACK   \n",
       "\n",
       "   Tenure  AssetCost  AmountFinance  DisbursalAmount      EMI DisbursalDate  \\\n",
       "0      46     480000       365000.0         365000.0   1000.0    2011-12-29   \n",
       "1      45     480000       285000.0         285000.0   9300.0    2012-04-28   \n",
       "2      48     580000       400000.0         400000.0  35800.0    2013-10-22   \n",
       "3      36     725000       500000.0         500000.0  52000.0    2013-05-21   \n",
       "4      48     617000       400000.0         400000.0  35400.0    2012-11-30   \n",
       "\n",
       "  MaturityDAte   AuthDate   AssetID  ManufacturerID  SupplierID    LTV SEX  \\\n",
       "0   2015-10-05 2011-12-29   3524747          1046.0       22354  75.83   M   \n",
       "1   2016-01-01 2012-04-28   4985862          1046.0       22354  57.44   M   \n",
       "2   2017-09-10 2013-10-22  12881783          1060.0       65929  68.97   M   \n",
       "3   2016-02-10 2013-05-21  10613776          1049.0       68597  61.79   M   \n",
       "4   2016-12-05 2012-11-30   7911110          1049.0       38493  59.09   M   \n",
       "\n",
       "    AGE  MonthlyIncome            City           State   ZiPCODE  \n",
       "0  50.0       32069.00            GUNA  MADHYA PRADESH  473001.0  \n",
       "1  35.0       25000.00            GUNA  MADHYA PRADESH  473001.0  \n",
       "2  37.0       23333.33            GUNA  MADHYA PRADESH  473001.0  \n",
       "3  55.0       91666.67      MAHASAMUND     CHATTISGARH  493558.0  \n",
       "4  48.0       12500.00  JAGATSINGHAPUR          ORISSA  754137.0  "
      ]
     },
     "execution_count": 55,
     "metadata": {},
     "output_type": "execute_result"
    }
   ],
   "source": [
    "basic_df_check(test_Data)"
   ]
  },
  {
   "cell_type": "code",
   "execution_count": 56,
   "metadata": {},
   "outputs": [
    {
     "name": "stdout",
     "output_type": "stream",
     "text": [
      "Shape of dataframe:  (64019, 25)\n",
      "\n",
      "\n",
      "Column List ============================= \n",
      " Index(['ID', 'SELF-INDICATOR', 'MATCH-TYPE', 'ACCT-TYPE', 'CONTRIBUTOR-TYPE',\n",
      "       'DATE-REPORTED', 'OWNERSHIP-IND', 'ACCOUNT-STATUS', 'DISBURSED-DT',\n",
      "       'CLOSE-DT', 'LAST-PAYMENT-DATE', 'CREDIT-LIMIT/SANC AMT',\n",
      "       'DISBURSED-AMT/HIGH CREDIT', 'INSTALLMENT-AMT', 'CURRENT-BAL',\n",
      "       'INSTALLMENT-FREQUENCY', 'OVERDUE-AMT', 'WRITE-OFF-AMT', 'ASSET_CLASS',\n",
      "       'REPORTED DATE - HIST', 'DPD - HIST', 'CUR BAL - HIST',\n",
      "       'AMT OVERDUE - HIST', 'AMT PAID - HIST', 'TENURE'],\n",
      "      dtype='object')\n"
     ]
    },
    {
     "data": {
      "text/html": [
       "<div>\n",
       "<style scoped>\n",
       "    .dataframe tbody tr th:only-of-type {\n",
       "        vertical-align: middle;\n",
       "    }\n",
       "\n",
       "    .dataframe tbody tr th {\n",
       "        vertical-align: top;\n",
       "    }\n",
       "\n",
       "    .dataframe thead th {\n",
       "        text-align: right;\n",
       "    }\n",
       "</style>\n",
       "<table border=\"1\" class=\"dataframe\">\n",
       "  <thead>\n",
       "    <tr style=\"text-align: right;\">\n",
       "      <th></th>\n",
       "      <th>ID</th>\n",
       "      <th>SELF-INDICATOR</th>\n",
       "      <th>MATCH-TYPE</th>\n",
       "      <th>ACCT-TYPE</th>\n",
       "      <th>CONTRIBUTOR-TYPE</th>\n",
       "      <th>DATE-REPORTED</th>\n",
       "      <th>OWNERSHIP-IND</th>\n",
       "      <th>ACCOUNT-STATUS</th>\n",
       "      <th>DISBURSED-DT</th>\n",
       "      <th>CLOSE-DT</th>\n",
       "      <th>LAST-PAYMENT-DATE</th>\n",
       "      <th>CREDIT-LIMIT/SANC AMT</th>\n",
       "      <th>DISBURSED-AMT/HIGH CREDIT</th>\n",
       "      <th>INSTALLMENT-AMT</th>\n",
       "      <th>CURRENT-BAL</th>\n",
       "      <th>INSTALLMENT-FREQUENCY</th>\n",
       "      <th>OVERDUE-AMT</th>\n",
       "      <th>WRITE-OFF-AMT</th>\n",
       "      <th>ASSET_CLASS</th>\n",
       "      <th>REPORTED DATE - HIST</th>\n",
       "      <th>DPD - HIST</th>\n",
       "      <th>CUR BAL - HIST</th>\n",
       "      <th>AMT OVERDUE - HIST</th>\n",
       "      <th>AMT PAID - HIST</th>\n",
       "      <th>TENURE</th>\n",
       "    </tr>\n",
       "  </thead>\n",
       "  <tbody>\n",
       "    <tr>\n",
       "      <th>0</th>\n",
       "      <td>4</td>\n",
       "      <td>False</td>\n",
       "      <td>PRIMARY</td>\n",
       "      <td>Credit Card</td>\n",
       "      <td>CCC</td>\n",
       "      <td>2019-11-17</td>\n",
       "      <td>Individual</td>\n",
       "      <td>Active</td>\n",
       "      <td>2019-09-26</td>\n",
       "      <td>NaN</td>\n",
       "      <td>NaT</td>\n",
       "      <td>10,000</td>\n",
       "      <td>588</td>\n",
       "      <td>NaN</td>\n",
       "      <td>589</td>\n",
       "      <td>NaN</td>\n",
       "      <td>0</td>\n",
       "      <td>0.0</td>\n",
       "      <td>NaN</td>\n",
       "      <td>20191117,</td>\n",
       "      <td>000</td>\n",
       "      <td>589,</td>\n",
       "      <td>0,</td>\n",
       "      <td>0,</td>\n",
       "      <td>NaN</td>\n",
       "    </tr>\n",
       "    <tr>\n",
       "      <th>1</th>\n",
       "      <td>4</td>\n",
       "      <td>False</td>\n",
       "      <td>PRIMARY</td>\n",
       "      <td>Housing Loan</td>\n",
       "      <td>HFC</td>\n",
       "      <td>2019-10-31</td>\n",
       "      <td>Joint</td>\n",
       "      <td>Active</td>\n",
       "      <td>2017-06-21</td>\n",
       "      <td>NaN</td>\n",
       "      <td>2019-10-15</td>\n",
       "      <td>NaN</td>\n",
       "      <td>25,00,000</td>\n",
       "      <td>30,797/Monthly</td>\n",
       "      <td>21,07,227</td>\n",
       "      <td>F03</td>\n",
       "      <td>0</td>\n",
       "      <td>0.0</td>\n",
       "      <td>NaN</td>\n",
       "      <td>20191031,20190930,20190831,20190731,20190630,2...</td>\n",
       "      <td>0000000000000000000000000000000000000000000000...</td>\n",
       "      <td>2107227,2122196,2136877,2151448,2165910,218026...</td>\n",
       "      <td>0,0,0,0,0,0,0,0,0,0,0,0,0,0,0,0,0,0,0,0,0,0,0,...</td>\n",
       "      <td>,,,,,,,,,,,,,,,,,,,,,,,,,,,,,</td>\n",
       "      <td>120.0</td>\n",
       "    </tr>\n",
       "    <tr>\n",
       "      <th>2</th>\n",
       "      <td>4</td>\n",
       "      <td>False</td>\n",
       "      <td>PRIMARY</td>\n",
       "      <td>Property Loan</td>\n",
       "      <td>HFC</td>\n",
       "      <td>2019-10-31</td>\n",
       "      <td>Joint</td>\n",
       "      <td>Active</td>\n",
       "      <td>2017-06-27</td>\n",
       "      <td>NaN</td>\n",
       "      <td>2019-10-15</td>\n",
       "      <td>NaN</td>\n",
       "      <td>99,000</td>\n",
       "      <td>1,223/Monthly</td>\n",
       "      <td>83,458</td>\n",
       "      <td>F03</td>\n",
       "      <td>0</td>\n",
       "      <td>0.0</td>\n",
       "      <td>NaN</td>\n",
       "      <td>20191031,20190930,20190831,20190731,20190630,2...</td>\n",
       "      <td>0000000000000000000000000000000000000000000000...</td>\n",
       "      <td>83458,84051,84632,85209,85781,86349,86913,8747...</td>\n",
       "      <td>0,0,0,0,0,0,0,0,0,0,0,0,0,0,0,0,0,0,0,0,0,0,0,...</td>\n",
       "      <td>,,,,,,,,,,,,,,,,,,,,,,,,,,,,,</td>\n",
       "      <td>120.0</td>\n",
       "    </tr>\n",
       "    <tr>\n",
       "      <th>3</th>\n",
       "      <td>4</td>\n",
       "      <td>True</td>\n",
       "      <td>PRIMARY</td>\n",
       "      <td>Tractor Loan</td>\n",
       "      <td>NBF</td>\n",
       "      <td>2015-10-31</td>\n",
       "      <td>Individual</td>\n",
       "      <td>Closed</td>\n",
       "      <td>2011-12-29</td>\n",
       "      <td>2015-10-13 00:00:00</td>\n",
       "      <td>NaT</td>\n",
       "      <td>NaN</td>\n",
       "      <td>3,65,000</td>\n",
       "      <td>NaN</td>\n",
       "      <td>0</td>\n",
       "      <td>NaN</td>\n",
       "      <td>0</td>\n",
       "      <td>0.0</td>\n",
       "      <td>NaN</td>\n",
       "      <td>20151031,20150901,20150831,20150731,20150630,2...</td>\n",
       "      <td>000DDD0270000000000000000000000000000000000000...</td>\n",
       "      <td>0,,21548,32097,42500,52758,62874,72850,82688,9...</td>\n",
       "      <td>0,,11000,0,0,0,0,0,0,0,0,0,0,0,0,0,0,0,0,0,0,0...</td>\n",
       "      <td>,,,,,,,,,,,,,,,,,,,,,,,,,,,,,,,,,,,,,</td>\n",
       "      <td>NaN</td>\n",
       "    </tr>\n",
       "    <tr>\n",
       "      <th>4</th>\n",
       "      <td>5</td>\n",
       "      <td>False</td>\n",
       "      <td>PRIMARY</td>\n",
       "      <td>Gold Loan</td>\n",
       "      <td>PRB</td>\n",
       "      <td>2017-08-31</td>\n",
       "      <td>Individual</td>\n",
       "      <td>Closed</td>\n",
       "      <td>2016-05-04</td>\n",
       "      <td>2017-06-15 00:00:00</td>\n",
       "      <td>2017-06-15</td>\n",
       "      <td>NaN</td>\n",
       "      <td>25,801</td>\n",
       "      <td>NaN</td>\n",
       "      <td>0</td>\n",
       "      <td>NaN</td>\n",
       "      <td>0</td>\n",
       "      <td>0.0</td>\n",
       "      <td>NaN</td>\n",
       "      <td>20170630,20170501,20170401,20170331,20170201,2...</td>\n",
       "      <td>000DDDDDD000DDDDDD000DDDDDD000DDDDDD000</td>\n",
       "      <td>0,,,25846,,,25846,,,25846,,,25846,</td>\n",
       "      <td>0,,,0,,,0,,,0,,,0</td>\n",
       "      <td>,,,,,,,,,,,,,,</td>\n",
       "      <td>NaN</td>\n",
       "    </tr>\n",
       "  </tbody>\n",
       "</table>\n",
       "</div>"
      ],
      "text/plain": [
       "   ID  SELF-INDICATOR MATCH-TYPE      ACCT-TYPE CONTRIBUTOR-TYPE  \\\n",
       "0   4           False    PRIMARY    Credit Card              CCC   \n",
       "1   4           False    PRIMARY   Housing Loan              HFC   \n",
       "2   4           False    PRIMARY  Property Loan              HFC   \n",
       "3   4            True    PRIMARY   Tractor Loan              NBF   \n",
       "4   5           False    PRIMARY      Gold Loan              PRB   \n",
       "\n",
       "  DATE-REPORTED OWNERSHIP-IND ACCOUNT-STATUS DISBURSED-DT  \\\n",
       "0    2019-11-17    Individual         Active   2019-09-26   \n",
       "1    2019-10-31         Joint         Active   2017-06-21   \n",
       "2    2019-10-31         Joint         Active   2017-06-27   \n",
       "3    2015-10-31    Individual         Closed   2011-12-29   \n",
       "4    2017-08-31    Individual         Closed   2016-05-04   \n",
       "\n",
       "              CLOSE-DT LAST-PAYMENT-DATE CREDIT-LIMIT/SANC AMT  \\\n",
       "0                  NaN               NaT                10,000   \n",
       "1                  NaN        2019-10-15                   NaN   \n",
       "2                  NaN        2019-10-15                   NaN   \n",
       "3  2015-10-13 00:00:00               NaT                   NaN   \n",
       "4  2017-06-15 00:00:00        2017-06-15                   NaN   \n",
       "\n",
       "  DISBURSED-AMT/HIGH CREDIT INSTALLMENT-AMT CURRENT-BAL INSTALLMENT-FREQUENCY  \\\n",
       "0                       588             NaN         589                   NaN   \n",
       "1                 25,00,000  30,797/Monthly   21,07,227                   F03   \n",
       "2                    99,000   1,223/Monthly      83,458                   F03   \n",
       "3                  3,65,000             NaN           0                   NaN   \n",
       "4                    25,801             NaN           0                   NaN   \n",
       "\n",
       "  OVERDUE-AMT  WRITE-OFF-AMT ASSET_CLASS  \\\n",
       "0           0            0.0         NaN   \n",
       "1           0            0.0         NaN   \n",
       "2           0            0.0         NaN   \n",
       "3           0            0.0         NaN   \n",
       "4           0            0.0         NaN   \n",
       "\n",
       "                                REPORTED DATE - HIST  \\\n",
       "0                                          20191117,   \n",
       "1  20191031,20190930,20190831,20190731,20190630,2...   \n",
       "2  20191031,20190930,20190831,20190731,20190630,2...   \n",
       "3  20151031,20150901,20150831,20150731,20150630,2...   \n",
       "4  20170630,20170501,20170401,20170331,20170201,2...   \n",
       "\n",
       "                                          DPD - HIST  \\\n",
       "0                                                000   \n",
       "1  0000000000000000000000000000000000000000000000...   \n",
       "2  0000000000000000000000000000000000000000000000...   \n",
       "3  000DDD0270000000000000000000000000000000000000...   \n",
       "4            000DDDDDD000DDDDDD000DDDDDD000DDDDDD000   \n",
       "\n",
       "                                      CUR BAL - HIST  \\\n",
       "0                                               589,   \n",
       "1  2107227,2122196,2136877,2151448,2165910,218026...   \n",
       "2  83458,84051,84632,85209,85781,86349,86913,8747...   \n",
       "3  0,,21548,32097,42500,52758,62874,72850,82688,9...   \n",
       "4                 0,,,25846,,,25846,,,25846,,,25846,   \n",
       "\n",
       "                                  AMT OVERDUE - HIST  \\\n",
       "0                                                 0,   \n",
       "1  0,0,0,0,0,0,0,0,0,0,0,0,0,0,0,0,0,0,0,0,0,0,0,...   \n",
       "2  0,0,0,0,0,0,0,0,0,0,0,0,0,0,0,0,0,0,0,0,0,0,0,...   \n",
       "3  0,,11000,0,0,0,0,0,0,0,0,0,0,0,0,0,0,0,0,0,0,0...   \n",
       "4                                  0,,,0,,,0,,,0,,,0   \n",
       "\n",
       "                         AMT PAID - HIST  TENURE  \n",
       "0                                     0,     NaN  \n",
       "1          ,,,,,,,,,,,,,,,,,,,,,,,,,,,,,   120.0  \n",
       "2          ,,,,,,,,,,,,,,,,,,,,,,,,,,,,,   120.0  \n",
       "3  ,,,,,,,,,,,,,,,,,,,,,,,,,,,,,,,,,,,,,     NaN  \n",
       "4                         ,,,,,,,,,,,,,,     NaN  "
      ]
     },
     "execution_count": 56,
     "metadata": {},
     "output_type": "execute_result"
    }
   ],
   "source": [
    "basic_df_check(test_bureau)"
   ]
  },
  {
   "cell_type": "code",
   "execution_count": 79,
   "metadata": {},
   "outputs": [],
   "source": [
    "import numpy as np"
   ]
  },
  {
   "cell_type": "code",
   "execution_count": 83,
   "metadata": {},
   "outputs": [
    {
     "data": {
      "text/plain": [
       "' > 48 Months'"
      ]
     },
     "execution_count": 83,
     "metadata": {},
     "output_type": "execute_result"
    }
   ],
   "source": [
    "# Top-up Month\n",
    "np.unique(train_Data[\"Top-up Month\"])[0]\n"
   ]
  },
  {
   "cell_type": "code",
   "execution_count": 71,
   "metadata": {},
   "outputs": [
    {
     "name": "stdout",
     "output_type": "stream",
     "text": [
      "{'ID': 0}\n",
      "{'Frequency': 0}\n",
      "{'InstlmentMode': 0}\n",
      "{'LoanStatus': 0}\n",
      "{'PaymentMode': 0}\n",
      "{'BranchID': 0}\n",
      "{'Area': 11653}\n",
      "{'Tenure': 0}\n",
      "{'AssetCost': 0}\n",
      "{'AmountFinance': 0}\n",
      "{'DisbursalAmount': 0}\n",
      "{'EMI': 0}\n",
      "{'DisbursalDate': 0}\n",
      "{'MaturityDAte': 1}\n",
      "{'AuthDate': 0}\n",
      "{'AssetID': 0}\n",
      "{'ManufacturerID': 0}\n",
      "{'SupplierID': 0}\n",
      "{'LTV': 0}\n",
      "{'SEX': 59}\n",
      "{'AGE': 59}\n",
      "{'MonthlyIncome': 234}\n",
      "{'City': 11256}\n",
      "{'State': 0}\n",
      "{'ZiPCODE': 372}\n",
      "{'Top-up Month': 0}\n"
     ]
    }
   ],
   "source": [
    "\n",
    "for varname in train_Data.columns:\n",
    "    print({varname : train_Data[varname].isna().sum()})"
   ]
  },
  {
   "cell_type": "code",
   "execution_count": 89,
   "metadata": {},
   "outputs": [
    {
     "data": {
      "text/plain": [
       "128655"
      ]
     },
     "execution_count": 89,
     "metadata": {},
     "output_type": "execute_result"
    }
   ],
   "source": [
    "len(np.unique(train_Data[\"ID\"]))"
   ]
  },
  {
   "cell_type": "code",
   "execution_count": 135,
   "metadata": {},
   "outputs": [],
   "source": [
    "arr = np.unique(train_Data[\"Top-up Month\"])"
   ]
  },
  {
   "cell_type": "code",
   "execution_count": 137,
   "metadata": {},
   "outputs": [
    {
     "name": "stdout",
     "output_type": "stream",
     "text": [
      " > 48 Months\n",
      "12-18 Months\n",
      "18-24 Months\n",
      "24-30 Months\n",
      "30-36 Months\n",
      "36-48 Months\n",
      "No Top-up Service\n"
     ]
    }
   ],
   "source": [
    "for i in arr:\n",
    "    print(i)"
   ]
  },
  {
   "cell_type": "code",
   "execution_count": 131,
   "metadata": {},
   "outputs": [
    {
     "data": {
      "text/plain": [
       "array([' > 48 Months', '12-18 Months', '18-24 Months', '24-30 Months',\n",
       "       '30-36 Months', '36-48 Months', 'No Top-up Service'], dtype=object)"
      ]
     },
     "execution_count": 131,
     "metadata": {},
     "output_type": "execute_result"
    }
   ],
   "source": [
    "np.sort(np.unique(train_Data[\"Top-up Month\"]))"
   ]
  },
  {
   "cell_type": "code",
   "execution_count": 123,
   "metadata": {},
   "outputs": [
    {
     "data": {
      "text/plain": [
       "array([' > 48 Months', '12-18 Months', '18-24 Months', '24-30 Months',\n",
       "       '30-36 Months', '36-48 Months', 'No Top-up Service'], dtype=object)"
      ]
     },
     "execution_count": 123,
     "metadata": {},
     "output_type": "execute_result"
    }
   ],
   "source": [
    "arr"
   ]
  },
  {
   "cell_type": "code",
   "execution_count": 151,
   "metadata": {},
   "outputs": [],
   "source": [
    "def tenEorrClean(df,tenLimit,TopUpMonth = \"No Top-up Service\"):\n",
    "    df_id = df[(df[\"Top-up Month\"] == TopUpMonth) & (train_Data[\"Tenure\"] < tenLimit)][\"ID\"]\n",
    "    print(df.shape)\n",
    "    df_id_ls = list(df_id)\n",
    "    print(df_id.shape)\n",
    "    return df_id_ls"
   ]
  },
  {
   "cell_type": "code",
   "execution_count": 177,
   "metadata": {},
   "outputs": [
    {
     "name": "stdout",
     "output_type": "stream",
     "text": [
      "(128655, 26)\n",
      "(4994,)\n",
      "(128655, 26)\n",
      "(0,)\n",
      "(128655, 26)\n",
      "(45,)\n",
      "(128655, 26)\n",
      "(49,)\n",
      "(128655, 26)\n",
      "(167,)\n",
      "(128655, 26)\n",
      "(376,)\n"
     ]
    }
   ],
   "source": [
    "tenEror_48_id = tenEorrClean(train_Data,48,' > 48 Months')\n",
    "tenEror_12_id = tenEorrClean(train_Data,12,'12-18 Months')\n",
    "tenEror_18_id = tenEorrClean(train_Data,18,'18-24 Months')\n",
    "tenEror_24_id = tenEorrClean(train_Data,24,'24-30 Months')\n",
    "tenEror_30_id = tenEorrClean(train_Data,30,'30-36 Months')\n",
    "tenEror_36_id = tenEorrClean(train_Data,36,'36-48 Months')"
   ]
  },
  {
   "cell_type": "code",
   "execution_count": 178,
   "metadata": {},
   "outputs": [
    {
     "data": {
      "text/plain": [
       "5631"
      ]
     },
     "execution_count": 178,
     "metadata": {},
     "output_type": "execute_result"
    }
   ],
   "source": [
    "tenError_ID_vector = set(tenEror_48_id + tenEror_18_id + tenEror_24_id + tenEror_30_id + tenEror_36_id)\n",
    "len(tenError_ID_vector)"
   ]
  },
  {
   "cell_type": "code",
   "execution_count": 179,
   "metadata": {},
   "outputs": [
    {
     "name": "stdout",
     "output_type": "stream",
     "text": [
      "(128655, 26)\n",
      "(123024, 26)\n"
     ]
    }
   ],
   "source": [
    "\n",
    "train_df = train_Data.drop(train_Data[train_Data[\"ID\"].isin(tenError_ID_vector)].index.tolist())\n",
    "print(train_Data.shape)\n",
    "print(train_df.shape)"
   ]
  },
  {
   "cell_type": "code",
   "execution_count": 180,
   "metadata": {},
   "outputs": [
    {
     "data": {
      "text/plain": [
       "5631"
      ]
     },
     "execution_count": 180,
     "metadata": {},
     "output_type": "execute_result"
    }
   ],
   "source": [
    "128655 - 123024"
   ]
  },
  {
   "cell_type": "code",
   "execution_count": 185,
   "metadata": {},
   "outputs": [],
   "source": [
    "test_df = test_Data.copy()\n",
    "test_df[\"Top-up Month\"] = \"test_data\""
   ]
  },
  {
   "cell_type": "code",
   "execution_count": 188,
   "metadata": {},
   "outputs": [
    {
     "name": "stdout",
     "output_type": "stream",
     "text": [
      "(123024, 26)\n",
      "(14745, 26)\n",
      "(137769, 26)\n"
     ]
    }
   ],
   "source": [
    "print(train_df.shape)\n",
    "print(test_df.shape)\n",
    "combi_df = pd.concat([train_df,test_df])\n",
    "print(combi_df.shape)"
   ]
  },
  {
   "cell_type": "code",
   "execution_count": null,
   "metadata": {},
   "outputs": [],
   "source": []
  },
  {
   "cell_type": "markdown",
   "metadata": {},
   "source": [
    "# Features"
   ]
  },
  {
   "cell_type": "markdown",
   "metadata": {},
   "source": [
    "## Payment Mode"
   ]
  },
  {
   "cell_type": "code",
   "execution_count": 189,
   "metadata": {},
   "outputs": [
    {
     "data": {
      "text/plain": [
       "Direct Debit    34459\n",
       "ECS             34363\n",
       "PDC             28317\n",
       "Billed          27777\n",
       "PDC_E           10165\n",
       "Auto Debit        904\n",
       "SI Reject         810\n",
       "Cheque            498\n",
       "ECS Reject        461\n",
       "PDC Reject          8\n",
       "Escrow              7\n",
       "Name: PaymentMode, dtype: int64"
      ]
     },
     "execution_count": 189,
     "metadata": {},
     "output_type": "execute_result"
    }
   ],
   "source": [
    "combi_df[\"PaymentMode\"].value_counts()"
   ]
  },
  {
   "cell_type": "code",
   "execution_count": 203,
   "metadata": {},
   "outputs": [],
   "source": [
    "def paymentModeFeature(df):\n",
    "    df[\"paymentMode_debit\"] = df[\"PaymentMode\"].apply(lambda x: 1 if \n",
    "                                    (x == \"Direct Debit\" or x == \"Auto Debit\" or x == \"ECS\" or x == \"Escrow\") else 0)\n",
    "    \n",
    "    print(df[\"paymentMode_debit\"].value_counts())\n",
    "    \n",
    "    df[\"paymentMode_PDC\"] = df[\"PaymentMode\"].apply(lambda x: 1 if \n",
    "                                    (x == \"PDC\" or x == \"PDC_E\") else 0)\n",
    "    \n",
    "    print(df[\"paymentMode_PDC\"].value_counts())\n",
    "    \n",
    "    df[\"paymentMode_Billed\"] = df[\"PaymentMode\"].apply(lambda x: 1 if \n",
    "                                    (x == \"Billed\" or x == \"Cheque\") else 0)\n",
    "    \n",
    "    print(df[\"paymentMode_Billed\"].value_counts())\n",
    "    \n",
    "    df[\"paymentMode_reject\"] = df[\"PaymentMode\"].apply(lambda x: 1 if \n",
    "                                    (x == \"SI Reject\" or x == \"ECS Reject\" or x == \"PDC Reject\") else 0)\n",
    "    \n",
    "    print(df[\"paymentMode_reject\"].value_counts())\n",
    "    \n",
    "    \n",
    "\n",
    "\n"
   ]
  },
  {
   "cell_type": "code",
   "execution_count": 204,
   "metadata": {},
   "outputs": [
    {
     "name": "stdout",
     "output_type": "stream",
     "text": [
      "1    69733\n",
      "0    68036\n",
      "Name: paymentMode_debit, dtype: int64\n",
      "0    99287\n",
      "1    38482\n",
      "Name: paymentMode_PDC, dtype: int64\n",
      "0    109494\n",
      "1     28275\n",
      "Name: paymentMode_Billed, dtype: int64\n",
      "0    136490\n",
      "1      1279\n",
      "Name: paymentMode_reject, dtype: int64\n"
     ]
    }
   ],
   "source": [
    "paymentModeFeature(combi_df)"
   ]
  },
  {
   "cell_type": "code",
   "execution_count": null,
   "metadata": {},
   "outputs": [],
   "source": []
  },
  {
   "cell_type": "markdown",
   "metadata": {},
   "source": [
    "## Auth date and disbursal date"
   ]
  },
  {
   "cell_type": "code",
   "execution_count": 205,
   "metadata": {},
   "outputs": [
    {
     "data": {
      "text/plain": [
       "0        0\n",
       "1        0\n",
       "2        0\n",
       "3        0\n",
       "4        0\n",
       "        ..\n",
       "14740    0\n",
       "14741    0\n",
       "14742    0\n",
       "14743   -1\n",
       "14744   -1\n",
       "Name: Disbursal_days, Length: 137769, dtype: int64"
      ]
     },
     "execution_count": 205,
     "metadata": {},
     "output_type": "execute_result"
    }
   ],
   "source": [
    "combi_df['Disbursal_days'] = (combi_df['DisbursalDate']-combi_df['AuthDate']).dt.days\n",
    "\n",
    "combi_df['Disbursal_days']\n",
    "\n",
    "# train['Top-up Month'].unique()"
   ]
  },
  {
   "cell_type": "code",
   "execution_count": 208,
   "metadata": {},
   "outputs": [
    {
     "data": {
      "text/plain": [
       "count    137769.000000\n",
       "mean         -0.179837\n",
       "std           0.702205\n",
       "min         -61.000000\n",
       "25%           0.000000\n",
       "50%           0.000000\n",
       "75%           0.000000\n",
       "max          30.000000\n",
       "Name: Disbursal_days, dtype: float64"
      ]
     },
     "execution_count": 208,
     "metadata": {},
     "output_type": "execute_result"
    }
   ],
   "source": [
    "combi_df['Disbursal_days'].describe()"
   ]
  },
  {
   "cell_type": "markdown",
   "metadata": {},
   "source": [
    "## selected var"
   ]
  },
  {
   "cell_type": "code",
   "execution_count": 398,
   "metadata": {},
   "outputs": [],
   "source": [
    "varForModel = [\"ID\",'Frequency', 'InstlmentMode', 'LoanStatus', 'Tenure', 'AssetCost', 'AmountFinance',\n",
    "       'DisbursalAmount', 'EMI', 'LTV', 'SEX', 'AGE',\n",
    "       'MonthlyIncome', 'Top-up Month',\n",
    "       'paymentMode_debit', 'paymentMode_PDC', 'paymentMode_Billed',\n",
    "       'paymentMode_reject', 'Disbursal_days']"
   ]
  },
  {
   "cell_type": "code",
   "execution_count": 399,
   "metadata": {},
   "outputs": [],
   "source": [
    "combi_df_model = combi_df[varForModel]"
   ]
  },
  {
   "cell_type": "code",
   "execution_count": 227,
   "metadata": {},
   "outputs": [
    {
     "name": "stdout",
     "output_type": "stream",
     "text": [
      "(123024, 31)\n",
      "(14745, 31)\n"
     ]
    }
   ],
   "source": []
  },
  {
   "cell_type": "code",
   "execution_count": 244,
   "metadata": {},
   "outputs": [],
   "source": [
    "# One hot encoding"
   ]
  },
  {
   "cell_type": "code",
   "execution_count": 400,
   "metadata": {},
   "outputs": [],
   "source": [
    "def init_encoder(df,col_name_lst):\n",
    "    d = {}\n",
    "    for colName in col_name_lst:\n",
    "        d[colName] = df[colName].unique().tolist()\n",
    "    return d"
   ]
  },
  {
   "cell_type": "code",
   "execution_count": 401,
   "metadata": {},
   "outputs": [],
   "source": [
    "varToInt = ['Frequency', 'InstlmentMode', 'LoanStatus']"
   ]
  },
  {
   "cell_type": "code",
   "execution_count": 402,
   "metadata": {},
   "outputs": [],
   "source": [
    "d_lst = init_encoder(combi_df_model,varToInt)"
   ]
  },
  {
   "cell_type": "code",
   "execution_count": 403,
   "metadata": {},
   "outputs": [
    {
     "data": {
      "text/plain": [
       "{'Frequency': ['Monthly', 'Quatrly', 'Half Yearly', 'BI-Monthly'],\n",
       " 'InstlmentMode': ['Arrear', 'Advance'],\n",
       " 'LoanStatus': ['Closed', 'Active']}"
      ]
     },
     "execution_count": 403,
     "metadata": {},
     "output_type": "execute_result"
    }
   ],
   "source": [
    "d_lst"
   ]
  },
  {
   "cell_type": "code",
   "execution_count": 404,
   "metadata": {},
   "outputs": [],
   "source": [
    "def one_hot_encoder(df, var_dict):\n",
    "    for var,vals in var_dict.items():\n",
    "        for val in vals:\n",
    "            df[val] = df[var].apply(lambda x: 1 if val in x else 0)\n",
    "    return df"
   ]
  },
  {
   "cell_type": "code",
   "execution_count": 405,
   "metadata": {},
   "outputs": [
    {
     "name": "stderr",
     "output_type": "stream",
     "text": [
      "<ipython-input-404-62939a39b8ac>:4: SettingWithCopyWarning: \n",
      "A value is trying to be set on a copy of a slice from a DataFrame.\n",
      "Try using .loc[row_indexer,col_indexer] = value instead\n",
      "\n",
      "See the caveats in the documentation: https://pandas.pydata.org/pandas-docs/stable/user_guide/indexing.html#returning-a-view-versus-a-copy\n",
      "  df[val] = df[var].apply(lambda x: 1 if val in x else 0)\n"
     ]
    }
   ],
   "source": [
    "combi_df_model_1 = one_hot_encoder(combi_df_model,d_lst)"
   ]
  },
  {
   "cell_type": "code",
   "execution_count": 406,
   "metadata": {},
   "outputs": [
    {
     "data": {
      "text/plain": [
       "Index(['ID', 'Frequency', 'InstlmentMode', 'LoanStatus', 'Tenure', 'AssetCost',\n",
       "       'AmountFinance', 'DisbursalAmount', 'EMI', 'LTV', 'SEX', 'AGE',\n",
       "       'MonthlyIncome', 'Top-up Month', 'paymentMode_debit', 'paymentMode_PDC',\n",
       "       'paymentMode_Billed', 'paymentMode_reject', 'Disbursal_days', 'Monthly',\n",
       "       'Quatrly', 'Half Yearly', 'BI-Monthly', 'Arrear', 'Advance', 'Closed',\n",
       "       'Active'],\n",
       "      dtype='object')"
      ]
     },
     "execution_count": 406,
     "metadata": {},
     "output_type": "execute_result"
    }
   ],
   "source": [
    "combi_df_model_1.columns"
   ]
  },
  {
   "cell_type": "code",
   "execution_count": 407,
   "metadata": {},
   "outputs": [
    {
     "name": "stderr",
     "output_type": "stream",
     "text": [
      "<ipython-input-407-e12335f6ed6a>:3: SettingWithCopyWarning: \n",
      "A value is trying to be set on a copy of a slice from a DataFrame.\n",
      "Try using .loc[row_indexer,col_indexer] = value instead\n",
      "\n",
      "See the caveats in the documentation: https://pandas.pydata.org/pandas-docs/stable/user_guide/indexing.html#returning-a-view-versus-a-copy\n",
      "  combi_df_model_1[\"SEX_F\"] = combi_df_model_1[\"SEX\"].apply(lambda x: 1 if x == \"F\" else 0)\n"
     ]
    }
   ],
   "source": [
    "# combi_df_model_1[\"SEX\"].value_counts()\n",
    "\n",
    "combi_df_model_1[\"SEX_F\"] = combi_df_model_1[\"SEX\"].apply(lambda x: 1 if x == \"F\" else 0)"
   ]
  },
  {
   "cell_type": "code",
   "execution_count": 408,
   "metadata": {},
   "outputs": [
    {
     "data": {
      "text/plain": [
       "No Top-up Service    106677\n",
       "test_data             14745\n",
       "24-30 Months           3443\n",
       " > 48 Months           3372\n",
       "36-48 Months           3280\n",
       "30-36 Months           2895\n",
       "18-24 Months           2323\n",
       "12-18 Months           1034\n",
       "Name: Top-up Month, dtype: int64"
      ]
     },
     "execution_count": 408,
     "metadata": {},
     "output_type": "execute_result"
    }
   ],
   "source": [
    "combi_df_model_1['Top-up Month'].value_counts()"
   ]
  },
  {
   "cell_type": "code",
   "execution_count": 409,
   "metadata": {},
   "outputs": [],
   "source": [
    "TopUpMonth_dict = {\"No Top-up Service\" : 0,\n",
    "                    \"test_data\" : -1,\n",
    "                    \"24-30 Months\" : 3,\n",
    "                    \" > 48 Months\" : 6,\n",
    "                    \"36-48 Months\" : 5,\n",
    "                    \"30-36 Months\" : 4,\n",
    "                    \"18-24 Months\" : 2,\n",
    "                    \"12-18 Months\" : 1\n",
    "                  }"
   ]
  },
  {
   "cell_type": "code",
   "execution_count": 410,
   "metadata": {},
   "outputs": [
    {
     "data": {
      "text/plain": [
       "{'No Top-up Service': 0,\n",
       " 'test_data': -1,\n",
       " '24-30 Months': 3,\n",
       " ' > 48 Months': 6,\n",
       " '36-48 Months': 5,\n",
       " '30-36 Months': 4,\n",
       " '18-24 Months': 2,\n",
       " '12-18 Months': 1}"
      ]
     },
     "execution_count": 410,
     "metadata": {},
     "output_type": "execute_result"
    }
   ],
   "source": [
    "TopUpMonth_dict"
   ]
  },
  {
   "cell_type": "code",
   "execution_count": 411,
   "metadata": {},
   "outputs": [
    {
     "name": "stderr",
     "output_type": "stream",
     "text": [
      "/Users/reet/opt/anaconda3/lib/python3.8/site-packages/pandas/core/indexing.py:845: SettingWithCopyWarning: \n",
      "A value is trying to be set on a copy of a slice from a DataFrame.\n",
      "Try using .loc[row_indexer,col_indexer] = value instead\n",
      "\n",
      "See the caveats in the documentation: https://pandas.pydata.org/pandas-docs/stable/user_guide/indexing.html#returning-a-view-versus-a-copy\n",
      "  self.obj[key] = _infer_fill_value(value)\n",
      "/Users/reet/opt/anaconda3/lib/python3.8/site-packages/pandas/core/indexing.py:966: SettingWithCopyWarning: \n",
      "A value is trying to be set on a copy of a slice from a DataFrame.\n",
      "Try using .loc[row_indexer,col_indexer] = value instead\n",
      "\n",
      "See the caveats in the documentation: https://pandas.pydata.org/pandas-docs/stable/user_guide/indexing.html#returning-a-view-versus-a-copy\n",
      "  self.obj[item] = s\n"
     ]
    }
   ],
   "source": [
    "for key,val in TopUpMonth_dict.items():\n",
    "    combi_df_model_1.loc[combi_df_model_1[\"Top-up Month\"].str.contains(key),\"Top-upMonth_d\"] = val\n"
   ]
  },
  {
   "cell_type": "code",
   "execution_count": 412,
   "metadata": {},
   "outputs": [
    {
     "data": {
      "text/plain": [
       "0.00000     106677\n",
       "-1.00000     14745\n",
       "3.00000       3443\n",
       "6.00000       3372\n",
       "5.00000       3280\n",
       "4.00000       2895\n",
       "2.00000       2323\n",
       "1.00000       1034\n",
       "Name: Top-upMonth_d, dtype: int64"
      ]
     },
     "execution_count": 412,
     "metadata": {},
     "output_type": "execute_result"
    }
   ],
   "source": [
    "combi_df_model_1[\"Top-upMonth_d\"].value_counts()"
   ]
  },
  {
   "cell_type": "code",
   "execution_count": 413,
   "metadata": {},
   "outputs": [
    {
     "data": {
      "text/plain": [
       "No Top-up Service    106677\n",
       "test_data             14745\n",
       "24-30 Months           3443\n",
       " > 48 Months           3372\n",
       "36-48 Months           3280\n",
       "30-36 Months           2895\n",
       "18-24 Months           2323\n",
       "12-18 Months           1034\n",
       "Name: Top-up Month, dtype: int64"
      ]
     },
     "execution_count": 413,
     "metadata": {},
     "output_type": "execute_result"
    }
   ],
   "source": [
    "combi_df_model_1[\"Top-up Month\"].value_counts()"
   ]
  },
  {
   "cell_type": "code",
   "execution_count": 414,
   "metadata": {},
   "outputs": [
    {
     "name": "stdout",
     "output_type": "stream",
     "text": [
      "Variable with nulls:\n",
      " SEX               54\n",
      "AGE               56\n",
      "MonthlyIncome    234\n",
      "dtype: int64\n"
     ]
    }
   ],
   "source": [
    "def na_check(df):\n",
    "    nd_df = df.isna().sum()\n",
    "    nd_vars = nd_df[nd_df>0]\n",
    "    print (\"Variable with nulls:\\n\",nd_vars)\n",
    "\n",
    "na_check(combi_df_model_1)"
   ]
  },
  {
   "cell_type": "code",
   "execution_count": 415,
   "metadata": {},
   "outputs": [
    {
     "data": {
      "text/plain": [
       "count   137713.00000\n",
       "mean        40.62441\n",
       "std         11.74216\n",
       "min         18.00000\n",
       "25%         31.00000\n",
       "50%         40.00000\n",
       "75%         49.00000\n",
       "max         90.00000\n",
       "Name: AGE, dtype: float64"
      ]
     },
     "execution_count": 415,
     "metadata": {},
     "output_type": "execute_result"
    }
   ],
   "source": [
    "combi_df_model_1[\"AGE\"].describe()"
   ]
  },
  {
   "cell_type": "code",
   "execution_count": 416,
   "metadata": {},
   "outputs": [
    {
     "name": "stderr",
     "output_type": "stream",
     "text": [
      "<ipython-input-416-b8df648e3b2e>:1: SettingWithCopyWarning: \n",
      "A value is trying to be set on a copy of a slice from a DataFrame\n",
      "\n",
      "See the caveats in the documentation: https://pandas.pydata.org/pandas-docs/stable/user_guide/indexing.html#returning-a-view-versus-a-copy\n",
      "  combi_df_model_1[\"AGE\"][combi_df_model_1[\"AGE\"].isna()] = 40\n",
      "/Users/reet/opt/anaconda3/lib/python3.8/site-packages/pandas/core/generic.py:8765: SettingWithCopyWarning: \n",
      "A value is trying to be set on a copy of a slice from a DataFrame\n",
      "\n",
      "See the caveats in the documentation: https://pandas.pydata.org/pandas-docs/stable/user_guide/indexing.html#returning-a-view-versus-a-copy\n",
      "  self._update_inplace(new_data)\n"
     ]
    }
   ],
   "source": [
    "combi_df_model_1[\"AGE\"][combi_df_model_1[\"AGE\"].isna()] = 40"
   ]
  },
  {
   "cell_type": "code",
   "execution_count": 313,
   "metadata": {},
   "outputs": [],
   "source": [
    "pd.set_option('display.float_format', lambda x: '%.5f' % x)"
   ]
  },
  {
   "cell_type": "code",
   "execution_count": 417,
   "metadata": {},
   "outputs": [
    {
     "data": {
      "text/plain": [
       "count      137535.00000\n",
       "mean        49938.35903\n",
       "std       1666709.75794\n",
       "min             0.00000\n",
       "25%         25000.00000\n",
       "50%         35623.33000\n",
       "75%         50000.00000\n",
       "max     617477500.00000\n",
       "Name: MonthlyIncome, dtype: float64"
      ]
     },
     "execution_count": 417,
     "metadata": {},
     "output_type": "execute_result"
    }
   ],
   "source": [
    "combi_df_model_1[\"MonthlyIncome\"].describe()"
   ]
  },
  {
   "cell_type": "code",
   "execution_count": 418,
   "metadata": {},
   "outputs": [
    {
     "name": "stderr",
     "output_type": "stream",
     "text": [
      "<ipython-input-418-03d2ebb295d9>:1: SettingWithCopyWarning: \n",
      "A value is trying to be set on a copy of a slice from a DataFrame\n",
      "\n",
      "See the caveats in the documentation: https://pandas.pydata.org/pandas-docs/stable/user_guide/indexing.html#returning-a-view-versus-a-copy\n",
      "  combi_df_model_1[\"MonthlyIncome\"][combi_df_model_1[\"MonthlyIncome\"].isna()] = 35623\n"
     ]
    }
   ],
   "source": [
    "combi_df_model_1[\"MonthlyIncome\"][combi_df_model_1[\"MonthlyIncome\"].isna()] = 35623"
   ]
  },
  {
   "cell_type": "code",
   "execution_count": 419,
   "metadata": {},
   "outputs": [
    {
     "name": "stdout",
     "output_type": "stream",
     "text": [
      "Variable with nulls:\n",
      " SEX    54\n",
      "dtype: int64\n"
     ]
    }
   ],
   "source": [
    "na_check(combi_df_model_1)"
   ]
  },
  {
   "cell_type": "code",
   "execution_count": 420,
   "metadata": {},
   "outputs": [
    {
     "name": "stderr",
     "output_type": "stream",
     "text": [
      "<ipython-input-420-9cbe4d320669>:3: SettingWithCopyWarning: \n",
      "A value is trying to be set on a copy of a slice from a DataFrame.\n",
      "Try using .loc[row_indexer,col_indexer] = value instead\n",
      "\n",
      "See the caveats in the documentation: https://pandas.pydata.org/pandas-docs/stable/user_guide/indexing.html#returning-a-view-versus-a-copy\n",
      "  combi_df_model_1[col] = combi_df_model_1[col].astype(int)\n",
      "<ipython-input-420-9cbe4d320669>:6: SettingWithCopyWarning: \n",
      "A value is trying to be set on a copy of a slice from a DataFrame.\n",
      "Try using .loc[row_indexer,col_indexer] = value instead\n",
      "\n",
      "See the caveats in the documentation: https://pandas.pydata.org/pandas-docs/stable/user_guide/indexing.html#returning-a-view-versus-a-copy\n",
      "  combi_df_model_1[\"Top-upMonth_d\"] = combi_df_model_1[\"Top-upMonth_d\"].astype(int)\n"
     ]
    }
   ],
   "source": [
    "for col in combi_df_model_1.columns:\n",
    "    if combi_df_model_1[col].dtypes == \"float64\":\n",
    "        combi_df_model_1[col] = combi_df_model_1[col].astype(int)\n",
    "\n",
    "\n",
    "combi_df_model_1[\"Top-upMonth_d\"] = combi_df_model_1[\"Top-upMonth_d\"].astype(int)"
   ]
  },
  {
   "cell_type": "code",
   "execution_count": null,
   "metadata": {},
   "outputs": [],
   "source": []
  },
  {
   "cell_type": "code",
   "execution_count": 423,
   "metadata": {},
   "outputs": [
    {
     "data": {
      "text/plain": [
       "ID                     int64\n",
       "Frequency             object\n",
       "InstlmentMode         object\n",
       "LoanStatus            object\n",
       "Tenure                 int64\n",
       "AssetCost              int64\n",
       "AmountFinance          int64\n",
       "DisbursalAmount        int64\n",
       "EMI                    int64\n",
       "LTV                    int64\n",
       "SEX                   object\n",
       "AGE                    int64\n",
       "MonthlyIncome          int64\n",
       "Top-up Month          object\n",
       "paymentMode_debit      int64\n",
       "paymentMode_PDC        int64\n",
       "paymentMode_Billed     int64\n",
       "paymentMode_reject     int64\n",
       "Disbursal_days         int64\n",
       "Monthly                int64\n",
       "Quatrly                int64\n",
       "Half Yearly            int64\n",
       "BI-Monthly             int64\n",
       "Arrear                 int64\n",
       "Advance                int64\n",
       "Closed                 int64\n",
       "Active                 int64\n",
       "SEX_F                  int64\n",
       "Top-upMonth_d          int64\n",
       "dtype: object"
      ]
     },
     "execution_count": 423,
     "metadata": {},
     "output_type": "execute_result"
    }
   ],
   "source": [
    "modelDF.dtypes"
   ]
  },
  {
   "cell_type": "code",
   "execution_count": 422,
   "metadata": {},
   "outputs": [
    {
     "name": "stdout",
     "output_type": "stream",
     "text": [
      "(137769, 29)\n",
      "(123024, 29)\n",
      "(14745, 29)\n"
     ]
    }
   ],
   "source": [
    "print(combi_df_model_1.shape)\n",
    "\n",
    "modelDF = combi_df_model_1[combi_df_model_1[\"Top-upMonth_d\"] >= 0]\n",
    "subDF = combi_df_model_1[combi_df_model_1[\"Top-upMonth_d\"] < 0]\n",
    "\n",
    "print(modelDF.shape)\n",
    "print(subDF.shape)"
   ]
  },
  {
   "cell_type": "code",
   "execution_count": 379,
   "metadata": {},
   "outputs": [
    {
     "name": "stderr",
     "output_type": "stream",
     "text": [
      "/Users/reet/opt/anaconda3/lib/python3.8/site-packages/pandas/core/frame.py:3990: SettingWithCopyWarning: \n",
      "A value is trying to be set on a copy of a slice from a DataFrame\n",
      "\n",
      "See the caveats in the documentation: https://pandas.pydata.org/pandas-docs/stable/user_guide/indexing.html#returning-a-view-versus-a-copy\n",
      "  return super().drop(\n"
     ]
    }
   ],
   "source": [
    "modelDF.drop([\"Frequency\",\"InstlmentMode\",\"LoanStatus\",\"SEX\",\"Top-up Month\"],axis=1,inplace=True)"
   ]
  },
  {
   "cell_type": "code",
   "execution_count": 380,
   "metadata": {},
   "outputs": [
    {
     "data": {
      "text/plain": [
       "Tenure                int64\n",
       "AssetCost             int64\n",
       "AmountFinance         int64\n",
       "DisbursalAmount       int64\n",
       "EMI                   int64\n",
       "LTV                   int64\n",
       "AGE                   int64\n",
       "MonthlyIncome         int64\n",
       "paymentMode_debit     int64\n",
       "paymentMode_PDC       int64\n",
       "paymentMode_Billed    int64\n",
       "paymentMode_reject    int64\n",
       "Disbursal_days        int64\n",
       "Monthly               int64\n",
       "Quatrly               int64\n",
       "Half Yearly           int64\n",
       "BI-Monthly            int64\n",
       "Arrear                int64\n",
       "Advance               int64\n",
       "Closed                int64\n",
       "Active                int64\n",
       "SEX_F                 int64\n",
       "Top-upMonth_d         int64\n",
       "dtype: object"
      ]
     },
     "execution_count": 380,
     "metadata": {},
     "output_type": "execute_result"
    }
   ],
   "source": [
    "modelDF.dtypes"
   ]
  },
  {
   "cell_type": "markdown",
   "metadata": {},
   "source": [
    "## Model"
   ]
  },
  {
   "cell_type": "code",
   "execution_count": 381,
   "metadata": {},
   "outputs": [],
   "source": [
    "# stratified split for multiclass\n",
    "\n",
    "def stratified_split(df, target, val_percent=0.2):\n",
    "    classes=list(df[target].unique())\n",
    "    train_idxs, val_idxs = [], []\n",
    "    for c in classes:\n",
    "        idx=list(df[df[target]==c].index)\n",
    "        np.random.shuffle(idx)\n",
    "        val_size=int(len(idx)*val_percent)\n",
    "        val_idxs+=idx[:val_size]\n",
    "        train_idxs+=idx[val_size:]\n",
    "    return train_idxs, val_idxs\n",
    "\n",
    "train_idxs, val_idxs = stratified_split(modelDF, 'Top-upMonth_d', val_percent=0.25)\n",
    "\n",
    "val_idxs, test_idxs = stratified_split(modelDF[modelDF.index.isin(val_idxs)], 'Top-upMonth_d', val_percent=0.5)"
   ]
  },
  {
   "cell_type": "code",
   "execution_count": 382,
   "metadata": {},
   "outputs": [
    {
     "name": "stdout",
     "output_type": "stream",
     "text": [
      "---------- STRATIFIED SAMPLING REPORT ----------\n",
      "-------- Label proportions in FULL data --------\n",
      "Proportion of records with 6: 0.027 (3372 / 123024)\n",
      "Proportion of records with 0: 0.87 (106677 / 123024)\n",
      "Proportion of records with 1: 0.0084 (1034 / 123024)\n",
      "Proportion of records with 5: 0.027 (3280 / 123024)\n",
      "Proportion of records with 2: 0.019 (2323 / 123024)\n",
      "Proportion of records with 3: 0.028 (3443 / 123024)\n",
      "Proportion of records with 4: 0.024 (2895 / 123024)\n",
      "-------- Label proportions in TRAIN data --------\n",
      "Proportion of records with 6: 0.027 (2529 / 92271)\n",
      "Proportion of records with 0: 0.87 (80008 / 92271)\n",
      "Proportion of records with 1: 0.0084 (776 / 92271)\n",
      "Proportion of records with 5: 0.027 (2460 / 92271)\n",
      "Proportion of records with 3: 0.028 (2583 / 92271)\n",
      "Proportion of records with 2: 0.019 (1743 / 92271)\n",
      "Proportion of records with 4: 0.024 (2172 / 92271)\n",
      "------ Label proportions in VALIDATION data -----\n",
      "Proportion of records with 0: 0.87 (13335 / 15378)\n",
      "Proportion of records with 6: 0.027 (422 / 15378)\n",
      "Proportion of records with 4: 0.024 (362 / 15378)\n",
      "Proportion of records with 2: 0.019 (290 / 15378)\n",
      "Proportion of records with 5: 0.027 (410 / 15378)\n",
      "Proportion of records with 3: 0.028 (430 / 15378)\n",
      "Proportion of records with 1: 0.0084 (129 / 15378)\n",
      "-------- Label proportions in TEST data ---------\n",
      "Proportion of records with 0: 0.87 (13334 / 15375)\n",
      "Proportion of records with 2: 0.019 (290 / 15375)\n",
      "Proportion of records with 3: 0.028 (430 / 15375)\n",
      "Proportion of records with 4: 0.023 (361 / 15375)\n",
      "Proportion of records with 5: 0.027 (410 / 15375)\n",
      "Proportion of records with 6: 0.027 (421 / 15375)\n",
      "Proportion of records with 1: 0.0084 (129 / 15375)\n"
     ]
    }
   ],
   "source": [
    "\n",
    "def test_stratified(df, col):\n",
    "    classes=list(df[col].unique())\n",
    "    for c in classes:\n",
    "        print(f'Proportion of records with {c}: {len(df[df[col]==c])*1./len(df):0.2} ({len(df[df[col]==c])} / {len(df)})')\n",
    "        \n",
    "print('---------- STRATIFIED SAMPLING REPORT ----------')\n",
    "print('-------- Label proportions in FULL data --------')\n",
    "test_stratified(modelDF, 'Top-upMonth_d')\n",
    "print('-------- Label proportions in TRAIN data --------')\n",
    "test_stratified(modelDF[modelDF.index.isin(train_idxs)], 'Top-upMonth_d')\n",
    "print('------ Label proportions in VALIDATION data -----')\n",
    "test_stratified(modelDF[modelDF.index.isin(val_idxs)], 'Top-upMonth_d')\n",
    "print('-------- Label proportions in TEST data ---------')\n",
    "test_stratified(modelDF[modelDF.index.isin(test_idxs)], 'Top-upMonth_d')\n",
    "\n",
    "        "
   ]
  },
  {
   "cell_type": "code",
   "execution_count": 389,
   "metadata": {},
   "outputs": [
    {
     "data": {
      "text/plain": [
       "Index(['Tenure', 'AssetCost', 'AmountFinance', 'DisbursalAmount', 'EMI', 'LTV',\n",
       "       'AGE', 'MonthlyIncome', 'paymentMode_debit', 'paymentMode_PDC',\n",
       "       'paymentMode_Billed', 'paymentMode_reject', 'Disbursal_days', 'Monthly',\n",
       "       'Quatrly', 'Half Yearly', 'BI-Monthly', 'Arrear', 'Advance', 'Closed',\n",
       "       'Active', 'SEX_F', 'Top-upMonth_d'],\n",
       "      dtype='object')"
      ]
     },
     "execution_count": 389,
     "metadata": {},
     "output_type": "execute_result"
    }
   ],
   "source": [
    "modelDF.columns"
   ]
  },
  {
   "cell_type": "code",
   "execution_count": 385,
   "metadata": {},
   "outputs": [
    {
     "name": "stdout",
     "output_type": "stream",
     "text": [
      "Retrieved Training Data\n",
      "Retrieved Validation Data\n",
      "Retrieved Test Data\n"
     ]
    }
   ],
   "source": [
    "train_df = modelDF[modelDF.index.isin(train_idxs)]\n",
    "X_train = train_df.drop('Top-upMonth_d',axis = 1).values\n",
    "Y_train = train_df[['Top-upMonth_d']].values\n",
    "print('Retrieved Training Data')\n",
    "val_df = modelDF[modelDF.index.isin(val_idxs)]\n",
    "X_val = val_df.drop('Top-upMonth_d',axis = 1).values\n",
    "Y_val = val_df[['Top-upMonth_d']].values\n",
    "print('Retrieved Validation Data')\n",
    "test_df = modelDF[modelDF.index.isin(test_idxs)]\n",
    "X_test = test_df.drop('Top-upMonth_d',axis = 1).values\n",
    "Y_test = test_df[['Top-upMonth_d']].values\n",
    "print('Retrieved Test Data')"
   ]
  },
  {
   "cell_type": "code",
   "execution_count": 387,
   "metadata": {},
   "outputs": [],
   "source": [
    "#store data, all in numpy arrays\n",
    "training_data = {'X_train':X_train,'Y_train':Y_train,\n",
    "                'X_val': X_val,'Y_val':Y_val,\n",
    "                'X_test': X_test,'Y_test':Y_test}"
   ]
  },
  {
   "cell_type": "markdown",
   "metadata": {},
   "source": [
    "### XGB Model"
   ]
  },
  {
   "cell_type": "code",
   "execution_count": 390,
   "metadata": {},
   "outputs": [],
   "source": [
    "import xgboost as xgb\n",
    "import matplotlib.pyplot as plt\n",
    "import matplotlib.pyplot as plt\n",
    "from sklearn.metrics import accuracy_score, f1_score\n",
    "from sklearn.model_selection import GridSearchCV\n",
    "import seaborn as sns\n",
    "import matplotlib.pyplot as plt"
   ]
  },
  {
   "cell_type": "code",
   "execution_count": 393,
   "metadata": {},
   "outputs": [],
   "source": [
    "def plot_compare(metrics,eval_results,epochs):\n",
    "    for m in metrics:\n",
    "        test_score = eval_results['val'][m]\n",
    "        train_score = eval_results['train'][m]\n",
    "        rang = range(0, epochs)\n",
    "        plt.rcParams[\"figure.figsize\"] = [6,6]\n",
    "        plt.plot(rang, test_score,\"c\", label=\"Val\")\n",
    "        plt.plot(rang, train_score,\"orange\", label=\"Train\")\n",
    "        title_name = m + \" plot\"\n",
    "        plt.title(title_name)\n",
    "        plt.xlabel('Iterations')\n",
    "        plt.ylabel(m)\n",
    "        lgd = plt.legend()\n",
    "        plt.show()\n",
    "        \n",
    "def fitXgb(sk_model, training_data=training_data,epochs=300):\n",
    "    print('Fitting model...')\n",
    "    sk_model.fit(training_data['X_train'], training_data['Y_train'].reshape(training_data['Y_train'].shape[0],))\n",
    "    print('Fitting done!')\n",
    "    train = xgb.DMatrix(training_data['X_train'], label=training_data['Y_train'])\n",
    "    val = xgb.DMatrix(training_data['X_val'], label=training_data['Y_val'])\n",
    "    params = sk_model.get_xgb_params()\n",
    "    metrics = ['mlogloss','merror']\n",
    "    params['eval_metric'] = metrics\n",
    "    store = {}\n",
    "    evallist = [(val, 'val'),(train,'train')]\n",
    "    xgb_model = xgb.train(params, train, epochs, evallist,evals_result=store,verbose_eval=100)\n",
    "    print('-- Model Report --')\n",
    "    print('XGBoost Accuracy: '+str(accuracy_score(sk_model.predict(training_data['X_test']), training_data['Y_test'])))\n",
    "    print('XGBoost F1-Score (Micro): '+str(f1_score(sk_model.predict(training_data['X_test']),training_data['Y_test'],average='micro')))\n",
    "    plot_compare(metrics,store,epochs)\n",
    "    features = ['Tenure', 'AssetCost', 'AmountFinance', 'DisbursalAmount', 'EMI', 'LTV',\n",
    "                   'AGE', 'MonthlyIncome', 'paymentMode_debit', 'paymentMode_PDC',\n",
    "                   'paymentMode_Billed', 'paymentMode_reject', 'Disbursal_days', 'Monthly',\n",
    "                   'Quatrly', 'Half Yearly', 'BI-Monthly', 'Arrear', 'Advance', 'Closed',\n",
    "                   'Active', 'SEX_F']\n",
    "    f, ax = plt.subplots(figsize=(10,5))\n",
    "    plot = sns.barplot(x=features, y=sk_model.feature_importances_)\n",
    "    ax.set_title('Feature Importance')\n",
    "    plot.set_xticklabels(plot.get_xticklabels(),rotation='vertical')\n",
    "    plt.show()"
   ]
  },
  {
   "cell_type": "code",
   "execution_count": 394,
   "metadata": {},
   "outputs": [],
   "source": [
    "\n",
    "from xgboost.sklearn import XGBClassifier\n",
    "#initial model\n",
    "xgb1 = XGBClassifier(learning_rate=0.1,\n",
    "                    n_estimators=200,\n",
    "                    max_depth=5,\n",
    "                    min_child_weight=1,\n",
    "                    gamma=0,\n",
    "                    subsample=0.8,\n",
    "                    colsample_bytree=0.8,\n",
    "                    objective='multi:softmax',\n",
    "                    nthread=4,\n",
    "                    num_class=7,\n",
    "                    seed=27)"
   ]
  },
  {
   "cell_type": "code",
   "execution_count": 395,
   "metadata": {},
   "outputs": [
    {
     "name": "stdout",
     "output_type": "stream",
     "text": [
      "Fitting model...\n",
      "Fitting done!\n",
      "[0]\tval-mlogloss:1.69880\tval-merror:0.13285\ttrain-mlogloss:1.69807\ttrain-merror:0.13290\n",
      "[100]\tval-mlogloss:0.50362\tval-merror:0.13285\ttrain-mlogloss:0.47461\ttrain-merror:0.13274\n",
      "[200]\tval-mlogloss:0.50294\tval-merror:0.13305\ttrain-mlogloss:0.44384\ttrain-merror:0.13173\n",
      "[299]\tval-mlogloss:0.50451\tval-merror:0.13324\ttrain-mlogloss:0.41661\ttrain-merror:0.12984\n",
      "-- Model Report --\n",
      "XGBoost Accuracy: 0.8672520325203252\n",
      "XGBoost F1-Score (Micro): 0.8672520325203252\n"
     ]
    },
    {
     "data": {
      "image/png": "[encoded data removed]",
      "text/plain": [
       "<Figure size 432x432 with 1 Axes>"
      ]
     },
     "metadata": {
      "needs_background": "light"
     },
     "output_type": "display_data"
    },
    {
     "data": {
      "image/png": "[encoded data removed]",
      "text/plain": [
       "<Figure size 432x432 with 1 Axes>"
      ]
     },
     "metadata": {
      "needs_background": "light"
     },
     "output_type": "display_data"
    },
    {
     "data": {
      "image/png": "[encoded data removed]",
      "text/plain": [
       "<Figure size 720x360 with 1 Axes>"
      ]
     },
     "metadata": {
      "needs_background": "light"
     },
     "output_type": "display_data"
    }
   ],
   "source": [
    "fitXgb(xgb1, training_data)"
   ]
  },
  {
   "cell_type": "code",
   "execution_count": 436,
   "metadata": {},
   "outputs": [],
   "source": [
    "subDF1 = subDF.drop([\"ID\",\"Frequency\",\"InstlmentMode\",\"LoanStatus\",\"SEX\",\"Top-up Month\",\"Top-upMonth_d\"],\n",
    "                    axis=1,inplace=False).values"
   ]
  },
  {
   "cell_type": "code",
   "execution_count": 438,
   "metadata": {},
   "outputs": [
    {
     "data": {
      "text/plain": [
       "array([[    46, 480000, 365000, ...,      1,      0,      0],\n",
       "       [    45, 480000, 285000, ...,      1,      0,      0],\n",
       "       [    48, 580000, 400000, ...,      1,      0,      0],\n",
       "       ...,\n",
       "       [    36, 595000, 446500, ...,      1,      0,      0],\n",
       "       [    12, 400000, 280000, ...,      1,      0,      0],\n",
       "       [    12, 400000, 280000, ...,      1,      0,      0]])"
      ]
     },
     "execution_count": 438,
     "metadata": {},
     "output_type": "execute_result"
    }
   ],
   "source": [
    "subDF1"
   ]
  },
  {
   "cell_type": "code",
   "execution_count": 439,
   "metadata": {},
   "outputs": [],
   "source": [
    "pred_vec = xgb1.predict(subDF1)\n"
   ]
  },
  {
   "cell_type": "code",
   "execution_count": 440,
   "metadata": {},
   "outputs": [],
   "source": [
    "pred_df = pd.DataFrame( { \"actual\": subDF[\"ID\"], \"predicted\" : pred_vec } )\n"
   ]
  },
  {
   "cell_type": "code",
   "execution_count": 451,
   "metadata": {},
   "outputs": [
    {
     "data": {
      "text/html": [
       "<div>\n",
       "<style scoped>\n",
       "    .dataframe tbody tr th:only-of-type {\n",
       "        vertical-align: middle;\n",
       "    }\n",
       "\n",
       "    .dataframe tbody tr th {\n",
       "        vertical-align: top;\n",
       "    }\n",
       "\n",
       "    .dataframe thead th {\n",
       "        text-align: right;\n",
       "    }\n",
       "</style>\n",
       "<table border=\"1\" class=\"dataframe\">\n",
       "  <thead>\n",
       "    <tr style=\"text-align: right;\">\n",
       "      <th></th>\n",
       "      <th>actual</th>\n",
       "      <th>predicted</th>\n",
       "      <th>predicted_str</th>\n",
       "    </tr>\n",
       "  </thead>\n",
       "  <tbody>\n",
       "    <tr>\n",
       "      <th>0</th>\n",
       "      <td>4</td>\n",
       "      <td>0</td>\n",
       "      <td>0</td>\n",
       "    </tr>\n",
       "    <tr>\n",
       "      <th>1</th>\n",
       "      <td>5</td>\n",
       "      <td>0</td>\n",
       "      <td>0</td>\n",
       "    </tr>\n",
       "    <tr>\n",
       "      <th>2</th>\n",
       "      <td>6</td>\n",
       "      <td>0</td>\n",
       "      <td>0</td>\n",
       "    </tr>\n",
       "    <tr>\n",
       "      <th>3</th>\n",
       "      <td>25</td>\n",
       "      <td>0</td>\n",
       "      <td>0</td>\n",
       "    </tr>\n",
       "    <tr>\n",
       "      <th>4</th>\n",
       "      <td>119</td>\n",
       "      <td>0</td>\n",
       "      <td>0</td>\n",
       "    </tr>\n",
       "  </tbody>\n",
       "</table>\n",
       "</div>"
      ],
      "text/plain": [
       "   actual  predicted predicted_str\n",
       "0       4          0             0\n",
       "1       5          0             0\n",
       "2       6          0             0\n",
       "3      25          0             0\n",
       "4     119          0             0"
      ]
     },
     "execution_count": 451,
     "metadata": {},
     "output_type": "execute_result"
    }
   ],
   "source": [
    "pred_df.head()"
   ]
  },
  {
   "cell_type": "code",
   "execution_count": 450,
   "metadata": {},
   "outputs": [],
   "source": [
    "pred_df[\"predicted_str\"] = pred_df[\"predicted\"].astype(str)"
   ]
  },
  {
   "cell_type": "code",
   "execution_count": 446,
   "metadata": {},
   "outputs": [
    {
     "data": {
      "text/plain": [
       "{'No Top-up Service': 0,\n",
       " 'test_data': -1,\n",
       " '24-30 Months': 3,\n",
       " ' > 48 Months': 6,\n",
       " '36-48 Months': 5,\n",
       " '30-36 Months': 4,\n",
       " '18-24 Months': 2,\n",
       " '12-18 Months': 1}"
      ]
     },
     "execution_count": 446,
     "metadata": {},
     "output_type": "execute_result"
    }
   ],
   "source": [
    "TopUpMonth_dict"
   ]
  },
  {
   "cell_type": "code",
   "execution_count": 456,
   "metadata": {},
   "outputs": [],
   "source": [
    "pred_df[\"Top-up Month\"] = pred_df[\"predicted\"].apply(\n",
    "    lambda x : 'No Top-up Service' if x == 0 \n",
    "    else('24-30 Months' if x ==3 \n",
    "         else(' > 48 Months' if x == 6 \n",
    "              else('36-48 Months' if x == 5 \n",
    "                   else('30-36 Months' if x==4 \n",
    "                        else('18-24 Months' if x == 2 else '12-18 Months'))))))"
   ]
  },
  {
   "cell_type": "code",
   "execution_count": 457,
   "metadata": {},
   "outputs": [
    {
     "data": {
      "text/html": [
       "<div>\n",
       "<style scoped>\n",
       "    .dataframe tbody tr th:only-of-type {\n",
       "        vertical-align: middle;\n",
       "    }\n",
       "\n",
       "    .dataframe tbody tr th {\n",
       "        vertical-align: top;\n",
       "    }\n",
       "\n",
       "    .dataframe thead th {\n",
       "        text-align: right;\n",
       "    }\n",
       "</style>\n",
       "<table border=\"1\" class=\"dataframe\">\n",
       "  <thead>\n",
       "    <tr style=\"text-align: right;\">\n",
       "      <th></th>\n",
       "      <th>actual</th>\n",
       "      <th>predicted</th>\n",
       "      <th>predicted_str</th>\n",
       "      <th>Top-up Month</th>\n",
       "    </tr>\n",
       "  </thead>\n",
       "  <tbody>\n",
       "    <tr>\n",
       "      <th>0</th>\n",
       "      <td>4</td>\n",
       "      <td>0</td>\n",
       "      <td>0</td>\n",
       "      <td>No Top-up Service</td>\n",
       "    </tr>\n",
       "    <tr>\n",
       "      <th>1</th>\n",
       "      <td>5</td>\n",
       "      <td>0</td>\n",
       "      <td>0</td>\n",
       "      <td>No Top-up Service</td>\n",
       "    </tr>\n",
       "    <tr>\n",
       "      <th>2</th>\n",
       "      <td>6</td>\n",
       "      <td>0</td>\n",
       "      <td>0</td>\n",
       "      <td>No Top-up Service</td>\n",
       "    </tr>\n",
       "    <tr>\n",
       "      <th>3</th>\n",
       "      <td>25</td>\n",
       "      <td>0</td>\n",
       "      <td>0</td>\n",
       "      <td>No Top-up Service</td>\n",
       "    </tr>\n",
       "    <tr>\n",
       "      <th>4</th>\n",
       "      <td>119</td>\n",
       "      <td>0</td>\n",
       "      <td>0</td>\n",
       "      <td>No Top-up Service</td>\n",
       "    </tr>\n",
       "  </tbody>\n",
       "</table>\n",
       "</div>"
      ],
      "text/plain": [
       "   actual  predicted predicted_str       Top-up Month\n",
       "0       4          0             0  No Top-up Service\n",
       "1       5          0             0  No Top-up Service\n",
       "2       6          0             0  No Top-up Service\n",
       "3      25          0             0  No Top-up Service\n",
       "4     119          0             0  No Top-up Service"
      ]
     },
     "execution_count": 457,
     "metadata": {},
     "output_type": "execute_result"
    }
   ],
   "source": [
    "pred_df.head()"
   ]
  },
  {
   "cell_type": "code",
   "execution_count": 458,
   "metadata": {},
   "outputs": [],
   "source": [
    "pred_df.to_csv(\"Baseline.csv\")"
   ]
  },
  {
   "cell_type": "code",
   "execution_count": null,
   "metadata": {},
   "outputs": [],
   "source": []
  },
  {
   "cell_type": "code",
   "execution_count": 455,
   "metadata": {},
   "outputs": [
    {
     "ename": "AttributeError",
     "evalue": "'DataFrame' object has no attribute 'contains'",
     "output_type": "error",
     "traceback": [
      "\u001b[0;31m-----------------------------------------------\u001b[0m",
      "\u001b[0;31mAttributeError\u001b[0mTraceback (most recent call last)",
      "\u001b[0;32m<ipython-input-455-af983c086c60>\u001b[0m in \u001b[0;36m<module>\u001b[0;34m\u001b[0m\n\u001b[1;32m      1\u001b[0m \u001b[0;32mfor\u001b[0m \u001b[0mkey\u001b[0m\u001b[0;34m,\u001b[0m\u001b[0mval\u001b[0m \u001b[0;32min\u001b[0m \u001b[0mTopUpMonth_dict\u001b[0m\u001b[0;34m.\u001b[0m\u001b[0mitems\u001b[0m\u001b[0;34m(\u001b[0m\u001b[0;34m)\u001b[0m\u001b[0;34m:\u001b[0m\u001b[0;34m\u001b[0m\u001b[0;34m\u001b[0m\u001b[0m\n\u001b[0;32m----> 2\u001b[0;31m     \u001b[0mpred_df\u001b[0m\u001b[0;34m.\u001b[0m\u001b[0mloc\u001b[0m\u001b[0;34m[\u001b[0m\u001b[0mpd\u001b[0m\u001b[0;34m.\u001b[0m\u001b[0mDataFrame\u001b[0m\u001b[0;34m(\u001b[0m\u001b[0mpred_df\u001b[0m\u001b[0;34m[\u001b[0m\u001b[0;34m\"predicted\"\u001b[0m\u001b[0;34m]\u001b[0m\u001b[0;34m)\u001b[0m\u001b[0;34m.\u001b[0m\u001b[0mcontains\u001b[0m\u001b[0;34m(\u001b[0m\u001b[0mval\u001b[0m\u001b[0;34m)\u001b[0m\u001b[0;34m,\u001b[0m\u001b[0;34m\"Top-up Month\"\u001b[0m\u001b[0;34m]\u001b[0m \u001b[0;34m=\u001b[0m \u001b[0mkey\u001b[0m\u001b[0;34m\u001b[0m\u001b[0;34m\u001b[0m\u001b[0m\n\u001b[0m",
      "\u001b[0;32m~/opt/anaconda3/lib/python3.8/site-packages/pandas/core/generic.py\u001b[0m in \u001b[0;36m__getattr__\u001b[0;34m(self, name)\u001b[0m\n\u001b[1;32m   5272\u001b[0m             \u001b[0;32mif\u001b[0m \u001b[0mself\u001b[0m\u001b[0;34m.\u001b[0m\u001b[0m_info_axis\u001b[0m\u001b[0;34m.\u001b[0m\u001b[0m_can_hold_identifiers_and_holds_name\u001b[0m\u001b[0;34m(\u001b[0m\u001b[0mname\u001b[0m\u001b[0;34m)\u001b[0m\u001b[0;34m:\u001b[0m\u001b[0;34m\u001b[0m\u001b[0;34m\u001b[0m\u001b[0m\n\u001b[1;32m   5273\u001b[0m                 \u001b[0;32mreturn\u001b[0m \u001b[0mself\u001b[0m\u001b[0;34m[\u001b[0m\u001b[0mname\u001b[0m\u001b[0;34m]\u001b[0m\u001b[0;34m\u001b[0m\u001b[0;34m\u001b[0m\u001b[0m\n\u001b[0;32m-> 5274\u001b[0;31m             \u001b[0;32mreturn\u001b[0m \u001b[0mobject\u001b[0m\u001b[0;34m.\u001b[0m\u001b[0m__getattribute__\u001b[0m\u001b[0;34m(\u001b[0m\u001b[0mself\u001b[0m\u001b[0;34m,\u001b[0m \u001b[0mname\u001b[0m\u001b[0;34m)\u001b[0m\u001b[0;34m\u001b[0m\u001b[0;34m\u001b[0m\u001b[0m\n\u001b[0m\u001b[1;32m   5275\u001b[0m \u001b[0;34m\u001b[0m\u001b[0m\n\u001b[1;32m   5276\u001b[0m     \u001b[0;32mdef\u001b[0m \u001b[0m__setattr__\u001b[0m\u001b[0;34m(\u001b[0m\u001b[0mself\u001b[0m\u001b[0;34m,\u001b[0m \u001b[0mname\u001b[0m\u001b[0;34m:\u001b[0m \u001b[0mstr\u001b[0m\u001b[0;34m,\u001b[0m \u001b[0mvalue\u001b[0m\u001b[0;34m)\u001b[0m \u001b[0;34m->\u001b[0m \u001b[0;32mNone\u001b[0m\u001b[0;34m:\u001b[0m\u001b[0;34m\u001b[0m\u001b[0;34m\u001b[0m\u001b[0m\n",
      "\u001b[0;31mAttributeError\u001b[0m: 'DataFrame' object has no attribute 'contains'"
     ]
    }
   ],
   "source": [
    "for key,val in TopUpMonth_dict.items():\n",
    "    pred_df.loc[pred_df[\"predicted\"].contains(val),\"Top-up Month\"] = key"
   ]
  },
  {
   "cell_type": "code",
   "execution_count": 449,
   "metadata": {},
   "outputs": [
    {
     "data": {
      "text/plain": [
       "0        0\n",
       "1        0\n",
       "2        0\n",
       "3        0\n",
       "4        0\n",
       "        ..\n",
       "14740    0\n",
       "14741    0\n",
       "14742    0\n",
       "14743    0\n",
       "14744    0\n",
       "Name: predicted, Length: 14745, dtype: int64"
      ]
     },
     "execution_count": 449,
     "metadata": {},
     "output_type": "execute_result"
    }
   ],
   "source": [
    "pred_df[\"predicted\"]"
   ]
  },
  {
   "cell_type": "code",
   "execution_count": null,
   "metadata": {},
   "outputs": [],
   "source": []
  },
  {
   "cell_type": "code",
   "execution_count": null,
   "metadata": {},
   "outputs": [],
   "source": []
  },
  {
   "cell_type": "code",
   "execution_count": null,
   "metadata": {},
   "outputs": [],
   "source": []
  },
  {
   "cell_type": "code",
   "execution_count": null,
   "metadata": {},
   "outputs": [],
   "source": []
  },
  {
   "cell_type": "code",
   "execution_count": null,
   "metadata": {},
   "outputs": [],
   "source": []
  },
  {
   "cell_type": "code",
   "execution_count": null,
   "metadata": {},
   "outputs": [],
   "source": []
  },
  {
   "cell_type": "code",
   "execution_count": null,
   "metadata": {},
   "outputs": [],
   "source": []
  },
  {
   "cell_type": "code",
   "execution_count": null,
   "metadata": {},
   "outputs": [],
   "source": []
  },
  {
   "cell_type": "code",
   "execution_count": null,
   "metadata": {},
   "outputs": [],
   "source": []
  },
  {
   "cell_type": "code",
   "execution_count": null,
   "metadata": {},
   "outputs": [],
   "source": []
  },
  {
   "cell_type": "code",
   "execution_count": null,
   "metadata": {},
   "outputs": [],
   "source": []
  },
  {
   "cell_type": "code",
   "execution_count": null,
   "metadata": {},
   "outputs": [],
   "source": []
  },
  {
   "cell_type": "code",
   "execution_count": null,
   "metadata": {},
   "outputs": [],
   "source": []
  },
  {
   "cell_type": "code",
   "execution_count": null,
   "metadata": {},
   "outputs": [],
   "source": [
    "#Model Evaluation code\n",
    "\n",
    "def model_evaluate( model_,X,Y ):\n",
    "    pred_df = pd.DataFrame( { \"actual\": Y, \"predicted\" : model_.predict( X ) } )\n",
    "    pred_df['resid'] = pred_df.actual - pred_df.predicted\n",
    "    rmse = np.sqrt( metrics.mean_squared_error( pred_df.actual, pred_df.predicted ) )\n",
    "    r2 = metrics.explained_variance_score( pred_df.actual, pred_df.predicted)\n",
    "    mae = metrics.mean_absolute_error(pred_df.actual, pred_df.predicted)  \n",
    "\n",
    "    pred_df['ape'] = np.abs((pred_df.actual - pred_df.predicted)/pred_df.actual)\n",
    "    mape = np.mean(pred_df['ape'])\n",
    "\n",
    "    print( \"RMSE: \", rmse, \" : \", \"R Squared: \", r2, \"MAE: \", mae, \"MAPE:\", mape )\n",
    "    return pred_df, rmse, r2, mape"
   ]
  },
  {
   "cell_type": "code",
   "execution_count": null,
   "metadata": {},
   "outputs": [],
   "source": []
  },
  {
   "cell_type": "code",
   "execution_count": 243,
   "metadata": {},
   "outputs": [
    {
     "data": {
      "text/plain": [
       "array(['No Top-up Service', 'No Top-up Service', 'No Top-up Service', ...,\n",
       "       'No Top-up Service', 'No Top-up Service', '18-24 Months'],\n",
       "      dtype=object)"
      ]
     },
     "execution_count": 243,
     "metadata": {},
     "output_type": "execute_result"
    }
   ],
   "source": [
    "y_test"
   ]
  },
  {
   "cell_type": "code",
   "execution_count": 210,
   "metadata": {},
   "outputs": [
    {
     "data": {
      "text/plain": [
       "Index(['ID', 'Frequency', 'InstlmentMode', 'LoanStatus', 'PaymentMode',\n",
       "       'BranchID', 'Area', 'Tenure', 'AssetCost', 'AmountFinance',\n",
       "       'DisbursalAmount', 'EMI', 'DisbursalDate', 'MaturityDAte', 'AuthDate',\n",
       "       'AssetID', 'ManufacturerID', 'SupplierID', 'LTV', 'SEX', 'AGE',\n",
       "       'MonthlyIncome', 'City', 'State', 'ZiPCODE', 'Top-up Month',\n",
       "       'paymentMode_debit', 'paymentMode_PDC', 'paymentMode_Billed',\n",
       "       'paymentMode_reject', 'Disbursal_days'],\n",
       "      dtype='object')"
      ]
     },
     "execution_count": 210,
     "metadata": {},
     "output_type": "execute_result"
    }
   ],
   "source": [
    "combi_df.columns"
   ]
  },
  {
   "cell_type": "code",
   "execution_count": 215,
   "metadata": {},
   "outputs": [
    {
     "name": "stdout",
     "output_type": "stream",
     "text": [
      "{'ID': 128655}\n",
      "{'Frequency': 4}\n",
      "{'InstlmentMode': 2}\n",
      "{'LoanStatus': 2}\n",
      "{'PaymentMode': 11}\n",
      "{'BranchID': 189}\n",
      "{'Area': 93}\n",
      "{'Tenure': 141}\n",
      "{'AssetCost': 7835}\n",
      "{'AmountFinance': 20439}\n",
      "{'DisbursalAmount': 19412}\n",
      "{'EMI': 24323}\n",
      "{'DisbursalDate': 2837}\n",
      "{'MaturityDAte': 981}\n",
      "{'AuthDate': 2711}\n",
      "{'AssetID': 128655}\n",
      "{'ManufacturerID': 10}\n",
      "{'SupplierID': 4539}\n",
      "{'LTV': 7988}\n",
      "{'SEX': 3}\n",
      "{'AGE': 74}\n",
      "{'MonthlyIncome': 11569}\n",
      "{'City': 489}\n",
      "{'State': 22}\n",
      "{'ZiPCODE': 9124}\n",
      "{'Top-up Month': 7}\n"
     ]
    }
   ],
   "source": [
    "for varname in train_Data.columns:\n",
    "    print({varname : len(list(np.unique(train_Data[varname].astype(str))))})"
   ]
  },
  {
   "cell_type": "code",
   "execution_count": null,
   "metadata": {},
   "outputs": [],
   "source": []
  },
  {
   "cell_type": "code",
   "execution_count": null,
   "metadata": {},
   "outputs": [],
   "source": []
  },
  {
   "cell_type": "code",
   "execution_count": 35,
   "metadata": {},
   "outputs": [
    {
     "ename": "SyntaxError",
     "evalue": "expression cannot contain assignment, perhaps you meant \"==\"? (<ipython-input-35-52abb342f1b8>, line 3)",
     "output_type": "error",
     "traceback": [
      "\u001b[0;36m  File \u001b[0;32m\"<ipython-input-35-52abb342f1b8>\"\u001b[0;36m, line \u001b[0;32m3\u001b[0m\n\u001b[0;31m    exec(\"{file_name}[:-5]\" = pd.read_excel({file_name}))\u001b[0m\n\u001b[0m         ^\u001b[0m\n\u001b[0;31mSyntaxError\u001b[0m\u001b[0;31m:\u001b[0m expression cannot contain assignment, perhaps you meant \"==\"?\n"
     ]
    }
   ],
   "source": [
    "\n",
    "def read_xlsx(file_name):\n",
    "    if file_name[-4:] == \"xlsx\" :\n",
    "        data = pd.read_excel(file_name)\n",
    "        \n",
    "        exec(\"file_name\"[:-5]\" = pd.read_excel({file_name}))\n",
    "        print(\"Size of {} data\".format(file_name[:-5]),file_name[:-5].shape)\n",
    "        \n",
    "files = os.listdir()\n",
    "\n",
    "for item in files:\n",
    "    read_xlsx(item)\n",
    "    \n"
   ]
  },
  {
   "cell_type": "code",
   "execution_count": 29,
   "metadata": {},
   "outputs": [
    {
     "data": {
      "text/plain": [
       "'data_dict'"
      ]
     },
     "execution_count": 29,
     "metadata": {},
     "output_type": "execute_result"
    }
   ],
   "source": [
    "\"data_dict.xlsx\"[:-5]"
   ]
  },
  {
   "cell_type": "code",
   "execution_count": 25,
   "metadata": {},
   "outputs": [
    {
     "data": {
      "text/plain": [
       "['data_dict.xlsx',\n",
       " '.DS_Store',\n",
       " 'train_Data.xlsx',\n",
       " 'test_bureau.xlsx',\n",
       " 'train_bureau.xlsx',\n",
       " 'test_Data.xlsx']"
      ]
     },
     "execution_count": 25,
     "metadata": {},
     "output_type": "execute_result"
    }
   ],
   "source": [
    "files"
   ]
  },
  {
   "cell_type": "code",
   "execution_count": null,
   "metadata": {},
   "outputs": [],
   "source": []
  }
 ],
 "metadata": {
  "kernelspec": {
   "display_name": "Python 3",
   "language": "python",
   "name": "python3"
  },
  "language_info": {
   "codemirror_mode": {
    "name": "ipython",
    "version": 3
   },
   "file_extension": ".py",
   "mimetype": "text/x-python",
   "name": "python",
   "nbconvert_exporter": "python",
   "pygments_lexer": "ipython3",
   "version": "3.8.3"
  }
 },
 "nbformat": 4,
 "nbformat_minor": 4
}
